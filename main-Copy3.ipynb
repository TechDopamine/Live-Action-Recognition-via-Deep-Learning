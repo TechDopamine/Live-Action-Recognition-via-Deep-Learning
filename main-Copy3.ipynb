{
 "cells": [
  {
   "cell_type": "code",
   "execution_count": 1,
   "id": "d138bc7d",
   "metadata": {},
   "outputs": [],
   "source": [
    "import cv2\n",
    "import numpy as np\n",
    "import os\n",
    "from matplotlib import pyplot as plt\n",
    "import time \n",
    "import mediapipe as mp"
   ]
  },
  {
   "cell_type": "markdown",
   "id": "05c08101",
   "metadata": {},
   "source": [
    "# 2. Keypoints using MP Holistic"
   ]
  },
  {
   "cell_type": "code",
   "execution_count": 2,
   "id": "5661fd6e",
   "metadata": {},
   "outputs": [],
   "source": [
    "mp_holistic = mp.solutions.holistic                # Holistic model\n",
    "mp_drawing = mp.solutions.drawing_utils            # Drawing utilities"
   ]
  },
  {
   "cell_type": "code",
   "execution_count": 3,
   "id": "0830ef0d",
   "metadata": {},
   "outputs": [],
   "source": [
    "def mediapipe_detection(image,model):\n",
    "    image = cv2.cvtColor(image,cv2.COLOR_BGR2RGB)       # COLOR CONVERSION bgr to rgb\n",
    "    image.flags.writeable = False                       # Image writeable status to false ,no longer writable\n",
    "    results = model.process(image)                      # Make Prediction\n",
    "    image.flags.writeable = True                        # Image is now writeable\n",
    "    image = cv2.cvtColor(image,cv2.COLOR_RGB2BGR)       # COLOR CONVERSION rgb to bgr\n",
    "    return image,results"
   ]
  },
  {
   "cell_type": "code",
   "execution_count": 4,
   "id": "de2139b5",
   "metadata": {},
   "outputs": [],
   "source": [
    "#cv2.cvtColor??\n",
    "mp.solutions.holistic??"
   ]
  },
  {
   "cell_type": "code",
   "execution_count": 5,
   "id": "3e4cdaed",
   "metadata": {},
   "outputs": [],
   "source": [
    "def draw_landmarks(image,results):                      # Grab the result and render it on to the images\n",
    "    mp_drawing.draw_landmarks(image ,results.face_landmarks ,mp_holistic.FACEMESH_TESSELATION) # draw face connection\n",
    "    mp_drawing.draw_landmarks(image ,results.pose_landmarks ,mp_holistic.POSE_CONNECTIONS) #draw pose connection\n",
    "    mp_drawing.draw_landmarks(image ,results.left_hand_landmarks ,mp_holistic.HAND_CONNECTIONS) #draw hand connection\n",
    "    mp_drawing.draw_landmarks(image ,results.right_hand_landmarks ,mp_holistic.HAND_CONNECTIONS) # Draw left Connection"
   ]
  },
  {
   "cell_type": "code",
   "execution_count": 7,
   "id": "c6ca10dd",
   "metadata": {},
   "outputs": [],
   "source": [
    "# mp_holistic.POSE_CONNECTIONS\n",
    "# mp_drawing.draw_landmarks??"
   ]
  },
  {
   "cell_type": "code",
   "execution_count": 6,
   "id": "60a7a6de",
   "metadata": {},
   "outputs": [],
   "source": [
    "def draw_styled_landmarks(image,results):\n",
    "    # draw face connection\n",
    "    mp_drawing.draw_landmarks(image ,results.face_landmarks ,mp_holistic.FACEMESH_TESSELATION,\n",
    "                             mp_drawing.DrawingSpec(color=(255,0,25),thickness=1,circle_radius=1),  # face dots\n",
    "                             mp_drawing.DrawingSpec(color=(80,98,121),thickness=1,circle_radius=1)   #face line\n",
    "                             ) \n",
    "    #draw pose connection\n",
    "    mp_drawing.draw_landmarks(image ,results.pose_landmarks ,mp_holistic.POSE_CONNECTIONS,\n",
    "                             mp_drawing.DrawingSpec(color=(180,212,10),thickness=2,circle_radius=4), #dots\n",
    "                             mp_drawing.DrawingSpec(color=(80,4,121),thickness=2,circle_radius=4)  #lines\n",
    "                             ) \n",
    "    #draw hand connection\n",
    "    mp_drawing.draw_landmarks(image ,results.left_hand_landmarks ,mp_holistic.HAND_CONNECTIONS,\n",
    "                             mp_drawing.DrawingSpec(color=(121,22,76),thickness=2,circle_radius=4),  #dots\n",
    "                             mp_drawing.DrawingSpec(color=(121,44,250),thickness=2,circle_radius=2)  #lines\n",
    "                             ) \n",
    "    #draw hand connection\n",
    "    mp_drawing.draw_landmarks(image ,results.right_hand_landmarks ,mp_holistic.HAND_CONNECTIONS,\n",
    "                             mp_drawing.DrawingSpec(color=(0,128,128),thickness=2,circle_radius=4),\n",
    "                             mp_drawing.DrawingSpec(color=(0,0,128),thickness=2,circle_radius=2)\n",
    "                             )"
   ]
  },
  {
   "cell_type": "code",
   "execution_count": 7,
   "id": "d3d08b08",
   "metadata": {
    "scrolled": true
   },
   "outputs": [
    {
     "name": "stdout",
     "output_type": "stream",
     "text": [
      "<class 'mediapipe.python.solution_base.SolutionOutputs'>\n",
      "<class 'mediapipe.python.solution_base.SolutionOutputs'>\n",
      "<class 'mediapipe.python.solution_base.SolutionOutputs'>\n",
      "<class 'mediapipe.python.solution_base.SolutionOutputs'>\n",
      "<class 'mediapipe.python.solution_base.SolutionOutputs'>\n",
      "<class 'mediapipe.python.solution_base.SolutionOutputs'>\n",
      "<class 'mediapipe.python.solution_base.SolutionOutputs'>\n",
      "<class 'mediapipe.python.solution_base.SolutionOutputs'>\n",
      "<class 'mediapipe.python.solution_base.SolutionOutputs'>\n",
      "<class 'mediapipe.python.solution_base.SolutionOutputs'>\n",
      "<class 'mediapipe.python.solution_base.SolutionOutputs'>\n",
      "<class 'mediapipe.python.solution_base.SolutionOutputs'>\n",
      "<class 'mediapipe.python.solution_base.SolutionOutputs'>\n",
      "<class 'mediapipe.python.solution_base.SolutionOutputs'>\n",
      "<class 'mediapipe.python.solution_base.SolutionOutputs'>\n",
      "<class 'mediapipe.python.solution_base.SolutionOutputs'>\n",
      "<class 'mediapipe.python.solution_base.SolutionOutputs'>\n",
      "<class 'mediapipe.python.solution_base.SolutionOutputs'>\n",
      "<class 'mediapipe.python.solution_base.SolutionOutputs'>\n",
      "<class 'mediapipe.python.solution_base.SolutionOutputs'>\n",
      "<class 'mediapipe.python.solution_base.SolutionOutputs'>\n",
      "<class 'mediapipe.python.solution_base.SolutionOutputs'>\n",
      "<class 'mediapipe.python.solution_base.SolutionOutputs'>\n",
      "<class 'mediapipe.python.solution_base.SolutionOutputs'>\n",
      "<class 'mediapipe.python.solution_base.SolutionOutputs'>\n",
      "<class 'mediapipe.python.solution_base.SolutionOutputs'>\n",
      "<class 'mediapipe.python.solution_base.SolutionOutputs'>\n",
      "<class 'mediapipe.python.solution_base.SolutionOutputs'>\n",
      "<class 'mediapipe.python.solution_base.SolutionOutputs'>\n",
      "<class 'mediapipe.python.solution_base.SolutionOutputs'>\n",
      "<class 'mediapipe.python.solution_base.SolutionOutputs'>\n",
      "<class 'mediapipe.python.solution_base.SolutionOutputs'>\n",
      "<class 'mediapipe.python.solution_base.SolutionOutputs'>\n",
      "<class 'mediapipe.python.solution_base.SolutionOutputs'>\n",
      "<class 'mediapipe.python.solution_base.SolutionOutputs'>\n",
      "<class 'mediapipe.python.solution_base.SolutionOutputs'>\n",
      "<class 'mediapipe.python.solution_base.SolutionOutputs'>\n",
      "<class 'mediapipe.python.solution_base.SolutionOutputs'>\n",
      "<class 'mediapipe.python.solution_base.SolutionOutputs'>\n",
      "<class 'mediapipe.python.solution_base.SolutionOutputs'>\n",
      "<class 'mediapipe.python.solution_base.SolutionOutputs'>\n",
      "<class 'mediapipe.python.solution_base.SolutionOutputs'>\n",
      "<class 'mediapipe.python.solution_base.SolutionOutputs'>\n",
      "<class 'mediapipe.python.solution_base.SolutionOutputs'>\n",
      "<class 'mediapipe.python.solution_base.SolutionOutputs'>\n",
      "<class 'mediapipe.python.solution_base.SolutionOutputs'>\n",
      "<class 'mediapipe.python.solution_base.SolutionOutputs'>\n",
      "<class 'mediapipe.python.solution_base.SolutionOutputs'>\n",
      "<class 'mediapipe.python.solution_base.SolutionOutputs'>\n",
      "<class 'mediapipe.python.solution_base.SolutionOutputs'>\n",
      "<class 'mediapipe.python.solution_base.SolutionOutputs'>\n",
      "<class 'mediapipe.python.solution_base.SolutionOutputs'>\n",
      "<class 'mediapipe.python.solution_base.SolutionOutputs'>\n",
      "<class 'mediapipe.python.solution_base.SolutionOutputs'>\n",
      "<class 'mediapipe.python.solution_base.SolutionOutputs'>\n",
      "<class 'mediapipe.python.solution_base.SolutionOutputs'>\n",
      "<class 'mediapipe.python.solution_base.SolutionOutputs'>\n",
      "<class 'mediapipe.python.solution_base.SolutionOutputs'>\n",
      "<class 'mediapipe.python.solution_base.SolutionOutputs'>\n",
      "<class 'mediapipe.python.solution_base.SolutionOutputs'>\n",
      "<class 'mediapipe.python.solution_base.SolutionOutputs'>\n",
      "<class 'mediapipe.python.solution_base.SolutionOutputs'>\n",
      "<class 'mediapipe.python.solution_base.SolutionOutputs'>\n",
      "<class 'mediapipe.python.solution_base.SolutionOutputs'>\n",
      "<class 'mediapipe.python.solution_base.SolutionOutputs'>\n",
      "<class 'mediapipe.python.solution_base.SolutionOutputs'>\n",
      "<class 'mediapipe.python.solution_base.SolutionOutputs'>\n",
      "<class 'mediapipe.python.solution_base.SolutionOutputs'>\n",
      "<class 'mediapipe.python.solution_base.SolutionOutputs'>\n",
      "<class 'mediapipe.python.solution_base.SolutionOutputs'>\n",
      "<class 'mediapipe.python.solution_base.SolutionOutputs'>\n",
      "<class 'mediapipe.python.solution_base.SolutionOutputs'>\n",
      "<class 'mediapipe.python.solution_base.SolutionOutputs'>\n",
      "<class 'mediapipe.python.solution_base.SolutionOutputs'>\n",
      "<class 'mediapipe.python.solution_base.SolutionOutputs'>\n"
     ]
    }
   ],
   "source": [
    "cap = cv2.VideoCapture(0)                                           # Device value is zero # this line access the webcam\n",
    "\n",
    "# Access mediapipe model       # intial detection         # tracking confindence\n",
    "with mp_holistic.Holistic(min_detection_confidence=0.5,min_tracking_confidence=0.5)as holistic:\n",
    "    while cap.isOpened():                                           #if webcam open\n",
    "\n",
    "        #Read feed\n",
    "        ret, frame = cap.read()\n",
    "\n",
    "        # Make detection \n",
    "        image , results = mediapipe_detection(frame,holistic)\n",
    "        print(results)\n",
    "        \n",
    "        # Draw landmarks \n",
    "        draw_styled_landmarks(image,results)\n",
    "        \n",
    "        \n",
    "        #Show to screen\n",
    "        cv2.imshow('OpenCV Feed',image)                             # Frame name='OpenCV Feed'\n",
    "\n",
    "        # Break escape\n",
    "                                                         # 0xFF is used to filter out any extra bits in the keypress event value, \n",
    "                                                         #ensuring that only the lower 8 bits (the ASCII value) are considered for the comparison with the 'q' key.\n",
    "        if cv2.waitKey(10) & 0xFF == ord('q'):                      # if current key is q , break out of loop \n",
    "            break\n",
    "    cap.release()\n",
    "    cv2.destroyAllWindows()"
   ]
  },
  {
   "cell_type": "code",
   "execution_count": 8,
   "id": "485d7f66",
   "metadata": {},
   "outputs": [],
   "source": [
    "## cap.release()\n",
    "cv2.destroyAllWindows()"
   ]
  },
  {
   "cell_type": "code",
   "execution_count": 9,
   "id": "1e27f64f",
   "metadata": {},
   "outputs": [
    {
     "data": {
      "text/plain": [
       "468"
      ]
     },
     "execution_count": 9,
     "metadata": {},
     "output_type": "execute_result"
    }
   ],
   "source": [
    "len(results.face_landmarks.landmark)"
   ]
  },
  {
   "cell_type": "code",
   "execution_count": 10,
   "id": "b6b88e93",
   "metadata": {},
   "outputs": [
    {
     "data": {
      "text/plain": [
       "mediapipe.python.solution_base.SolutionOutputs"
      ]
     },
     "execution_count": 10,
     "metadata": {},
     "output_type": "execute_result"
    }
   ],
   "source": [
    "#frame\n",
    "results"
   ]
  },
  {
   "cell_type": "code",
   "execution_count": 11,
   "id": "9fafc112",
   "metadata": {},
   "outputs": [],
   "source": [
    "draw_landmarks(frame,results)"
   ]
  },
  {
   "cell_type": "code",
   "execution_count": 12,
   "id": "4e99d882",
   "metadata": {},
   "outputs": [
    {
     "data": {
      "text/plain": [
       "<matplotlib.image.AxesImage at 0x22138cb0af0>"
      ]
     },
     "execution_count": 12,
     "metadata": {},
     "output_type": "execute_result"
    },
    {
     "data": {
      "image/png": "[encoded data removed]",
      "text/plain": [
       "<Figure size 640x480 with 1 Axes>"
      ]
     },
     "metadata": {},
     "output_type": "display_data"
    }
   ],
   "source": [
    "#plt.imshow(frame)\n",
    "\n",
    "plt.imshow(cv2.cvtColor(frame,cv2.COLOR_BGR2RGB))"
   ]
  },
  {
   "cell_type": "markdown",
   "id": "c87f9a3b",
   "metadata": {},
   "source": [
    "# 3. Extract Keypoint Value"
   ]
  },
  {
   "cell_type": "code",
   "execution_count": 13,
   "id": "9fc18b22",
   "metadata": {},
   "outputs": [],
   "source": [
    "#results.pose_landmarks"
   ]
  },
  {
   "cell_type": "code",
   "execution_count": 14,
   "id": "2dd23b36",
   "metadata": {},
   "outputs": [],
   "source": [
    "#results.pose_landmarks.landmark[0].visibility"
   ]
  },
  {
   "cell_type": "code",
   "execution_count": 15,
   "id": "1976f91a",
   "metadata": {},
   "outputs": [
    {
     "data": {
      "text/plain": [
       "468"
      ]
     },
     "execution_count": 15,
     "metadata": {},
     "output_type": "execute_result"
    }
   ],
   "source": [
    "len(results.face_landmarks.landmark)"
   ]
  },
  {
   "cell_type": "code",
   "execution_count": 16,
   "id": "0519c1c6",
   "metadata": {},
   "outputs": [],
   "source": [
    "pose = []\n",
    "for res in results.pose_landmarks.landmark:\n",
    "    test = np.array([res.x,res.y,res.z,res.visibility])\n",
    "    pose.append(test)"
   ]
  },
  {
   "cell_type": "code",
   "execution_count": 17,
   "id": "0201ae84",
   "metadata": {
    "scrolled": true
   },
   "outputs": [],
   "source": [
    "#print(pose)"
   ]
  },
  {
   "cell_type": "code",
   "execution_count": 18,
   "id": "5265287b",
   "metadata": {},
   "outputs": [],
   "source": [
    "#print('Pose Length : ',len(pose))"
   ]
  },
  {
   "cell_type": "code",
   "execution_count": 19,
   "id": "84148d15",
   "metadata": {},
   "outputs": [],
   "source": [
    "pose = np.array([[res.x,res.y,res.z,res.visibility]for res in results.pose_landmarks.landmark]).flatten() if results.pose_landmarks else np.zeros(132)\n",
    "face = np.array([[res.x,res.y,res.z]for res in results.face_landmarks.landmark]).flatten() if results.face_landmarks else np.zeros(1404)\n",
    "lh = np.array([[res.x,res.y,res.z] for res in results.left_hand_landmarks.landmark]).flatten() if results.left_hand_landmarks else np.zeros(21*3)\n",
    "rh = np.array([[res.x,res.y,res.z] for res in results.right_hand_landmarks.landmark]).flatten() if results.right_hand_landmarks else np.zeros(21*3)"
   ]
  },
  {
   "cell_type": "code",
   "execution_count": 20,
   "id": "5cdbc3f7",
   "metadata": {},
   "outputs": [],
   "source": [
    "face = np.array([[res.x, res.y, res.z] for res in results.face_landmarks.landmark]).flatten() \n",
    "if results.face_landmarks :\n",
    "    np.zeros(1404)"
   ]
  },
  {
   "cell_type": "code",
   "execution_count": 21,
   "id": "81ed5816",
   "metadata": {},
   "outputs": [
    {
     "name": "stdout",
     "output_type": "stream",
     "text": [
      "Pose Shape :  (132,)\n"
     ]
    }
   ],
   "source": [
    "print('Pose Shape : ',pose.shape)"
   ]
  },
  {
   "cell_type": "code",
   "execution_count": 22,
   "id": "fd41d839",
   "metadata": {},
   "outputs": [
    {
     "data": {
      "text/plain": [
       "1404"
      ]
     },
     "execution_count": 22,
     "metadata": {},
     "output_type": "execute_result"
    }
   ],
   "source": [
    "len(results.face_landmarks.landmark)*3"
   ]
  },
  {
   "cell_type": "code",
   "execution_count": 23,
   "id": "be18ff26",
   "metadata": {},
   "outputs": [
    {
     "data": {
      "text/plain": [
       "(63,)"
      ]
     },
     "execution_count": 23,
     "metadata": {},
     "output_type": "execute_result"
    }
   ],
   "source": [
    "np.zeros(21*3).shape"
   ]
  },
  {
   "cell_type": "code",
   "execution_count": 24,
   "id": "e9436368",
   "metadata": {},
   "outputs": [
    {
     "name": "stdout",
     "output_type": "stream",
     "text": [
      "[ 0.62122798  0.61572707 -0.03247879 ...  0.6896711   0.47136018\n",
      "  0.02207678]\n"
     ]
    }
   ],
   "source": [
    "print(face)"
   ]
  },
  {
   "cell_type": "code",
   "execution_count": 25,
   "id": "effcfd64",
   "metadata": {},
   "outputs": [],
   "source": [
    "def extract_keypoints(results):\n",
    "    pose = np.array([[res.x,res.y,res.z,res.visibility]for res in results.pose_landmarks.landmark]).flatten() if results.pose_landmarks else np.zeros(33*4)\n",
    "    face = np.array([[res.x,res.y,res.z]for res in results.face_landmarks.landmark]).flatten() if results.face_landmarks else np.zeros(468*3)\n",
    "    lh = np.array([[res.x,res.y,res.z] for res in results.left_hand_landmarks.landmark]).flatten() if results.left_hand_landmarks else np.zeros(21*3)\n",
    "    rh = np.array([[res.x,res.y,res.z] for res in results.right_hand_landmarks.landmark]).flatten() if results.right_hand_landmarks else np.zeros(21*3)\n",
    "    return np.concatenate([pose,face,lh,rh])"
   ]
  },
  {
   "cell_type": "code",
   "execution_count": 26,
   "id": "cda3236a",
   "metadata": {},
   "outputs": [],
   "source": [
    "result_test = extract_keypoints(results)"
   ]
  },
  {
   "cell_type": "code",
   "execution_count": 27,
   "id": "3fe9f48c",
   "metadata": {},
   "outputs": [
    {
     "data": {
      "text/plain": [
       "array([ 0.60989714,  0.54921806, -1.11152267, ...,  0.        ,\n",
       "        0.        ,  0.        ])"
      ]
     },
     "execution_count": 27,
     "metadata": {},
     "output_type": "execute_result"
    }
   ],
   "source": [
    "result_test"
   ]
  },
  {
   "cell_type": "code",
   "execution_count": 28,
   "id": "5730f0c8",
   "metadata": {},
   "outputs": [],
   "source": [
    "np.save('0',result_test)"
   ]
  },
  {
   "cell_type": "code",
   "execution_count": 29,
   "id": "815ec530",
   "metadata": {},
   "outputs": [
    {
     "data": {
      "text/plain": [
       "array([ 0.60989714,  0.54921806, -1.11152267, ...,  0.        ,\n",
       "        0.        ,  0.        ])"
      ]
     },
     "execution_count": 29,
     "metadata": {},
     "output_type": "execute_result"
    }
   ],
   "source": [
    "np.load('0.npy')"
   ]
  },
  {
   "cell_type": "code",
   "execution_count": 30,
   "id": "300e3ccc",
   "metadata": {},
   "outputs": [],
   "source": [
    "# 4. Setup folders for collection"
   ]
  },
  {
   "cell_type": "code",
   "execution_count": 31,
   "id": "6b206047",
   "metadata": {},
   "outputs": [],
   "source": [
    "# path for the exported data,numpy arrays\n",
    "DATA_PATH = os.path.join('MP_Data')\n",
    "\n",
    "#Actions that we try to detect\n",
    "actions = np.array(['hello','thanks','iloveyou'])\n",
    "# 30 videos worth of data\n",
    "no_sequences = 30\n",
    "#videos are going to be 30 frames in length\n",
    "sequence_length = 30"
   ]
  },
  {
   "cell_type": "code",
   "execution_count": 32,
   "id": "676ed2da",
   "metadata": {},
   "outputs": [],
   "source": [
    "#hello \n",
    "#thanks\n",
    "#iloveyou"
   ]
  },
  {
   "cell_type": "code",
   "execution_count": 33,
   "id": "0c30196f",
   "metadata": {},
   "outputs": [],
   "source": [
    "for action in actions:\n",
    "    for sequence in range(no_sequences):\n",
    "        try:\n",
    "            os.makedirs(os.path.join(DATA_PATH, action, str(sequence)))\n",
    "        except:\n",
    "            pass"
   ]
  },
  {
   "cell_type": "markdown",
   "id": "2142ac3b",
   "metadata": {},
   "source": [
    "# 5. collect keypoints values for training and testing"
   ]
  },
  {
   "cell_type": "code",
   "execution_count": 34,
   "id": "fa58c893",
   "metadata": {},
   "outputs": [
    {
     "ename": "KeyboardInterrupt",
     "evalue": "",
     "output_type": "error",
     "traceback": [
      "\u001b[1;31m---------------------------------------------------------------------------\u001b[0m",
      "\u001b[1;31mKeyboardInterrupt\u001b[0m                         Traceback (most recent call last)",
      "Cell \u001b[1;32mIn[34], line 28\u001b[0m\n\u001b[0;32m     24\u001b[0m     cv2\u001b[38;5;241m.\u001b[39mputText(image,\u001b[38;5;124m'\u001b[39m\u001b[38;5;124mSTARTING COLLECTION\u001b[39m\u001b[38;5;124m'\u001b[39m,(\u001b[38;5;241m120\u001b[39m,\u001b[38;5;241m200\u001b[39m),\n\u001b[0;32m     25\u001b[0m                 cv2\u001b[38;5;241m.\u001b[39mFONT_HERSHEY_SIMPLEX, \u001b[38;5;241m1\u001b[39m,(\u001b[38;5;241m0\u001b[39m,\u001b[38;5;241m255\u001b[39m,\u001b[38;5;241m0\u001b[39m),\u001b[38;5;241m4\u001b[39m,cv2\u001b[38;5;241m.\u001b[39mLINE_AA)\n\u001b[0;32m     26\u001b[0m     cv2\u001b[38;5;241m.\u001b[39mputText(image,\u001b[38;5;124m'\u001b[39m\u001b[38;5;124mCOLLECTION Frames for \u001b[39m\u001b[38;5;132;01m{}\u001b[39;00m\u001b[38;5;124m Video Number\u001b[39m\u001b[38;5;132;01m{}\u001b[39;00m\u001b[38;5;124m'\u001b[39m\u001b[38;5;241m.\u001b[39mformat(action,sequence),(\u001b[38;5;241m15\u001b[39m,\u001b[38;5;241m12\u001b[39m),\n\u001b[0;32m     27\u001b[0m                 cv2\u001b[38;5;241m.\u001b[39mFONT_HERSHEY_SIMPLEX, \u001b[38;5;241m0.5\u001b[39m,(\u001b[38;5;241m0\u001b[39m,\u001b[38;5;241m0\u001b[39m,\u001b[38;5;241m255\u001b[39m),\u001b[38;5;241m1\u001b[39m,cv2\u001b[38;5;241m.\u001b[39mLINE_AA)\n\u001b[1;32m---> 28\u001b[0m     \u001b[43mcv2\u001b[49m\u001b[38;5;241;43m.\u001b[39;49m\u001b[43mwaitKey\u001b[49m\u001b[43m(\u001b[49m\u001b[38;5;241;43m2000\u001b[39;49m\u001b[43m)\u001b[49m\n\u001b[0;32m     29\u001b[0m \u001b[38;5;28;01melse\u001b[39;00m:\n\u001b[0;32m     30\u001b[0m     cv2\u001b[38;5;241m.\u001b[39mputText(image,\u001b[38;5;124m'\u001b[39m\u001b[38;5;124mCOLLECTION frames for \u001b[39m\u001b[38;5;132;01m{}\u001b[39;00m\u001b[38;5;124m video number\u001b[39m\u001b[38;5;132;01m{}\u001b[39;00m\u001b[38;5;124m'\u001b[39m\u001b[38;5;241m.\u001b[39mformat(action,sequence),(\u001b[38;5;241m15\u001b[39m,\u001b[38;5;241m12\u001b[39m),\n\u001b[0;32m     31\u001b[0m                 cv2\u001b[38;5;241m.\u001b[39mFONT_HERSHEY_SIMPLEX, \u001b[38;5;241m0.5\u001b[39m,(\u001b[38;5;241m0\u001b[39m,\u001b[38;5;241m0\u001b[39m,\u001b[38;5;241m255\u001b[39m),\u001b[38;5;241m1\u001b[39m,cv2\u001b[38;5;241m.\u001b[39mLINE_AA)\n",
      "\u001b[1;31mKeyboardInterrupt\u001b[0m: "
     ]
    }
   ],
   "source": [
    "cap = cv2.VideoCapture(0)             # Device value is zero # this line access the webcam\n",
    "\n",
    "# Access mediapipe model       # intial detection         # tracking confindence\n",
    "with mp_holistic.Holistic(min_detection_confidence=0.5,min_tracking_confidence=0.5)as holistic:\n",
    "    # New loop\n",
    "    # Loop through actions\n",
    "    for action in actions:\n",
    "        # Loop throungh sequences aka video\n",
    "        for sequence in range(no_sequences):\n",
    "            # Loop through video length aka sequence length\n",
    "            for frame_num in range(sequence_length):\n",
    "    \n",
    "                #Read feed\n",
    "                ret, frame = cap.read()\n",
    "\n",
    "                # Make detection \n",
    "                image , results = mediapipe_detection(frame, holistic)\n",
    "\n",
    "                # Draw landmarks\n",
    "                draw_styled_landmarks(image,results)\n",
    "                \n",
    "                # New Apply wait logic\n",
    "                if frame_num == 0:\n",
    "                    cv2.putText(image,'STARTING COLLECTION',(120,200),\n",
    "                                cv2.FONT_HERSHEY_SIMPLEX, 1,(0,255,0),4,cv2.LINE_AA)\n",
    "                    cv2.putText(image,'COLLECTION Frames for {} Video Number{}'.format(action,sequence),(15,12),\n",
    "                                cv2.FONT_HERSHEY_SIMPLEX, 0.5,(0,0,255),1,cv2.LINE_AA)\n",
    "                    cv2.waitKey(2000)\n",
    "                else:\n",
    "                    cv2.putText(image,'COLLECTION frames for {} video number{}'.format(action,sequence),(15,12),\n",
    "                                cv2.FONT_HERSHEY_SIMPLEX, 0.5,(0,0,255),1,cv2.LINE_AA)\n",
    "                \n",
    "                # New Export keypoints\n",
    "                keypoints = extract_keypoints(results)\n",
    "                npy_path = os.path.join(DATA_PATH, action, str(sequence), str(frame_num))\n",
    "                np.save(npy_path, keypoints)\n",
    "                \n",
    "                \n",
    "                #Show to screen\n",
    "                cv2.imshow('OpenCV Feed',image) # Frame name='OpenCV Feed'\n",
    "\n",
    "                # Break escape\n",
    "                if cv2.waitKey(10) & 0xFF == ord('q'): # if current key is q , break out of loop\n",
    "                    break\n",
    "    cap.release()\n",
    "    cv2.destroyAllWindows()"
   ]
  },
  {
   "cell_type": "code",
   "execution_count": 35,
   "id": "7b465bf5",
   "metadata": {},
   "outputs": [],
   "source": [
    "cap.release()\n",
    "cv2.destroyAllWindows()"
   ]
  },
  {
   "cell_type": "markdown",
   "id": "bd8aef9a",
   "metadata": {},
   "source": [
    "# 6. preprocessing data and create labels and features"
   ]
  },
  {
   "cell_type": "code",
   "execution_count": 36,
   "id": "d1b0f207",
   "metadata": {},
   "outputs": [],
   "source": [
    "from sklearn.model_selection import train_test_split\n",
    "from tensorflow.keras.utils import to_categorical"
   ]
  },
  {
   "cell_type": "code",
   "execution_count": 37,
   "id": "7e142385",
   "metadata": {},
   "outputs": [],
   "source": [
    "label_map = {label:num for num,label in enumerate(actions)}"
   ]
  },
  {
   "cell_type": "code",
   "execution_count": 38,
   "id": "b36cf139",
   "metadata": {},
   "outputs": [
    {
     "data": {
      "text/plain": [
       "{'hello': 0, 'thanks': 1, 'iloveyou': 2}"
      ]
     },
     "execution_count": 38,
     "metadata": {},
     "output_type": "execute_result"
    }
   ],
   "source": [
    "label_map"
   ]
  },
  {
   "cell_type": "code",
   "execution_count": 39,
   "id": "70f00ccb",
   "metadata": {
    "scrolled": true
   },
   "outputs": [],
   "source": [
    "sequences ,labels = [],[]\n",
    "for action in actions:\n",
    "    for sequence in range(no_sequences):\n",
    "        window = []\n",
    "        for frame_num in range(sequence_length):\n",
    "            res = np.load(os.path.join(DATA_PATH , action , str(sequence),\"{}.npy\".format(frame_num)))\n",
    "            window.append(res)\n",
    "        sequences.append(window)\n",
    "        labels.append(label_map[action])"
   ]
  },
  {
   "cell_type": "code",
   "execution_count": 40,
   "id": "e8c91f26",
   "metadata": {},
   "outputs": [],
   "source": [
    "#np.array(sequences).shape"
   ]
  },
  {
   "cell_type": "code",
   "execution_count": 41,
   "id": "6618dc23",
   "metadata": {},
   "outputs": [],
   "source": [
    "#np.array(labels).shape"
   ]
  },
  {
   "cell_type": "code",
   "execution_count": 42,
   "id": "2dd24078",
   "metadata": {},
   "outputs": [],
   "source": [
    "x = np.array(sequences)"
   ]
  },
  {
   "cell_type": "code",
   "execution_count": 43,
   "id": "dfe8aab6",
   "metadata": {},
   "outputs": [
    {
     "data": {
      "text/plain": [
       "(90, 30, 1662)"
      ]
     },
     "execution_count": 43,
     "metadata": {},
     "output_type": "execute_result"
    }
   ],
   "source": [
    "x.shape"
   ]
  },
  {
   "cell_type": "code",
   "execution_count": 44,
   "id": "ba429583",
   "metadata": {},
   "outputs": [],
   "source": [
    "y = to_categorical(labels).astype(int)"
   ]
  },
  {
   "cell_type": "code",
   "execution_count": 45,
   "id": "8c2c4d19",
   "metadata": {
    "scrolled": true
   },
   "outputs": [
    {
     "name": "stdout",
     "output_type": "stream",
     "text": [
      "[[1 0 0]\n",
      " [1 0 0]\n",
      " [1 0 0]\n",
      " [1 0 0]\n",
      " [1 0 0]\n",
      " [1 0 0]\n",
      " [1 0 0]\n",
      " [1 0 0]\n",
      " [1 0 0]\n",
      " [1 0 0]\n",
      " [1 0 0]\n",
      " [1 0 0]\n",
      " [1 0 0]\n",
      " [1 0 0]\n",
      " [1 0 0]\n",
      " [1 0 0]\n",
      " [1 0 0]\n",
      " [1 0 0]\n",
      " [1 0 0]\n",
      " [1 0 0]\n",
      " [1 0 0]\n",
      " [1 0 0]\n",
      " [1 0 0]\n",
      " [1 0 0]\n",
      " [1 0 0]\n",
      " [1 0 0]\n",
      " [1 0 0]\n",
      " [1 0 0]\n",
      " [1 0 0]\n",
      " [1 0 0]\n",
      " [0 1 0]\n",
      " [0 1 0]\n",
      " [0 1 0]\n",
      " [0 1 0]\n",
      " [0 1 0]\n",
      " [0 1 0]\n",
      " [0 1 0]\n",
      " [0 1 0]\n",
      " [0 1 0]\n",
      " [0 1 0]\n",
      " [0 1 0]\n",
      " [0 1 0]\n",
      " [0 1 0]\n",
      " [0 1 0]\n",
      " [0 1 0]\n",
      " [0 1 0]\n",
      " [0 1 0]\n",
      " [0 1 0]\n",
      " [0 1 0]\n",
      " [0 1 0]\n",
      " [0 1 0]\n",
      " [0 1 0]\n",
      " [0 1 0]\n",
      " [0 1 0]\n",
      " [0 1 0]\n",
      " [0 1 0]\n",
      " [0 1 0]\n",
      " [0 1 0]\n",
      " [0 1 0]\n",
      " [0 1 0]\n",
      " [0 0 1]\n",
      " [0 0 1]\n",
      " [0 0 1]\n",
      " [0 0 1]\n",
      " [0 0 1]\n",
      " [0 0 1]\n",
      " [0 0 1]\n",
      " [0 0 1]\n",
      " [0 0 1]\n",
      " [0 0 1]\n",
      " [0 0 1]\n",
      " [0 0 1]\n",
      " [0 0 1]\n",
      " [0 0 1]\n",
      " [0 0 1]\n",
      " [0 0 1]\n",
      " [0 0 1]\n",
      " [0 0 1]\n",
      " [0 0 1]\n",
      " [0 0 1]\n",
      " [0 0 1]\n",
      " [0 0 1]\n",
      " [0 0 1]\n",
      " [0 0 1]\n",
      " [0 0 1]\n",
      " [0 0 1]\n",
      " [0 0 1]\n",
      " [0 0 1]\n",
      " [0 0 1]\n",
      " [0 0 1]]\n"
     ]
    }
   ],
   "source": [
    "print(y)"
   ]
  },
  {
   "cell_type": "code",
   "execution_count": 46,
   "id": "cf63b817",
   "metadata": {},
   "outputs": [
    {
     "name": "stdout",
     "output_type": "stream",
     "text": [
      "x_train (85, 30, 1662)\n",
      "x_test (5, 30, 1662)\n",
      "y_train (85, 3)\n",
      "y_test (5, 3)\n"
     ]
    }
   ],
   "source": [
    "x_train,x_test,y_train,y_test,=train_test_split(x,y,test_size=0.05,random_state=45)\n",
    "\n",
    "print('x_train',x_train.shape)\n",
    "print('x_test',x_test.shape)\n",
    "print('y_train',y_train.shape)\n",
    "print('y_test',y_test.shape)"
   ]
  },
  {
   "cell_type": "markdown",
   "id": "ea98c6da",
   "metadata": {},
   "source": [
    "# 7.Build and train lstm nn"
   ]
  },
  {
   "cell_type": "code",
   "execution_count": 47,
   "id": "0e6f6baf",
   "metadata": {},
   "outputs": [],
   "source": [
    "from tensorflow.keras.models import Sequential  # builds sequential nn\n",
    "from tensorflow.keras.layers import LSTM,Dense  # LSTM layes \n",
    "from tensorflow.keras.callbacks import TensorBoard  #trace\n",
    "\n",
    "\n",
    "\n",
    "log_dir = os.path.join('Logs')\n",
    "tb_callback = TensorBoard(log_dir=log_dir)\n",
    "\n",
    "model = Sequential()\n",
    "\n",
    "model.add(LSTM(64, return_sequences = True, activation = 'relu', input_shape = (30,1662)))\n",
    "model.add(LSTM(128, return_sequences = True, activation = 'relu'))\n",
    "model.add(LSTM(64, return_sequences = False, activation = 'relu'))\n",
    "\n",
    "model.add(Dense(64, activation = 'relu'))\n",
    "model.add(Dense(32, activation = 'relu'))\n",
    "model.add(Dense(actions.shape[0], activation = 'softmax'))"
   ]
  },
  {
   "cell_type": "code",
   "execution_count": 48,
   "id": "7b488e19",
   "metadata": {},
   "outputs": [],
   "source": [
    "#res= [.7,0.2,0.1]\n",
    "#res"
   ]
  },
  {
   "cell_type": "code",
   "execution_count": 49,
   "id": "fcb893ca",
   "metadata": {},
   "outputs": [],
   "source": [
    "#actions[np.argmax(res)]"
   ]
  },
  {
   "cell_type": "code",
   "execution_count": 50,
   "id": "9fe9ffb3",
   "metadata": {},
   "outputs": [],
   "source": [
    "model.compile(optimizer = 'Adam',loss='categorical_crossentropy',metrics=['categorical_accuracy'])"
   ]
  },
  {
   "cell_type": "code",
   "execution_count": 104,
   "id": "5fcb2707",
   "metadata": {
    "scrolled": true
   },
   "outputs": [
    {
     "name": "stdout",
     "output_type": "stream",
     "text": [
      "Epoch 1/500\n",
      "3/3 [==============================] - 8s 309ms/step - loss: 1.0899 - categorical_accuracy: 0.3176\n",
      "Epoch 2/500\n",
      "3/3 [==============================] - 1s 266ms/step - loss: 1.0724 - categorical_accuracy: 0.3176\n",
      "Epoch 3/500\n",
      "3/3 [==============================] - 1s 506ms/step - loss: 1.1580 - categorical_accuracy: 0.3882\n",
      "Epoch 4/500\n",
      "3/3 [==============================] - 1s 307ms/step - loss: 1.0336 - categorical_accuracy: 0.5176\n",
      "Epoch 5/500\n",
      "3/3 [==============================] - 1s 184ms/step - loss: 1.0358 - categorical_accuracy: 0.4588\n",
      "Epoch 6/500\n",
      "3/3 [==============================] - 1s 231ms/step - loss: 0.9630 - categorical_accuracy: 0.4941\n",
      "Epoch 7/500\n",
      "3/3 [==============================] - 0s 104ms/step - loss: 0.9530 - categorical_accuracy: 0.4824\n",
      "Epoch 8/500\n",
      "3/3 [==============================] - 1s 161ms/step - loss: 1.1778 - categorical_accuracy: 0.4941\n",
      "Epoch 9/500\n",
      "3/3 [==============================] - 1s 194ms/step - loss: 1.2214 - categorical_accuracy: 0.3412\n",
      "Epoch 10/500\n",
      "3/3 [==============================] - 1s 262ms/step - loss: 1.0573 - categorical_accuracy: 0.3412\n",
      "Epoch 11/500\n",
      "3/3 [==============================] - 0s 146ms/step - loss: 1.3520 - categorical_accuracy: 0.3294\n",
      "Epoch 12/500\n",
      "3/3 [==============================] - 1s 223ms/step - loss: 1.0429 - categorical_accuracy: 0.3412\n",
      "Epoch 13/500\n",
      "3/3 [==============================] - 0s 66ms/step - loss: 1.1755 - categorical_accuracy: 0.3412\n",
      "Epoch 14/500\n",
      "3/3 [==============================] - 1s 156ms/step - loss: 1.0226 - categorical_accuracy: 0.4118\n",
      "Epoch 15/500\n",
      "3/3 [==============================] - 1s 136ms/step - loss: 1.0353 - categorical_accuracy: 0.4118\n",
      "Epoch 16/500\n",
      "3/3 [==============================] - 1s 193ms/step - loss: 1.0382 - categorical_accuracy: 0.4706\n",
      "Epoch 17/500\n",
      "3/3 [==============================] - 2s 727ms/step - loss: 1.0386 - categorical_accuracy: 0.4235\n",
      "Epoch 18/500\n",
      "3/3 [==============================] - 1s 446ms/step - loss: 1.0348 - categorical_accuracy: 0.4235\n",
      "Epoch 19/500\n",
      "3/3 [==============================] - 1s 349ms/step - loss: 1.2014 - categorical_accuracy: 0.6353\n",
      "Epoch 20/500\n",
      "3/3 [==============================] - 1s 253ms/step - loss: 2.0348 - categorical_accuracy: 0.4000\n",
      "Epoch 21/500\n",
      "3/3 [==============================] - 0s 170ms/step - loss: 3.0373 - categorical_accuracy: 0.4000\n",
      "Epoch 22/500\n",
      "3/3 [==============================] - 1s 288ms/step - loss: 1.0404 - categorical_accuracy: 0.4235\n",
      "Epoch 23/500\n",
      "3/3 [==============================] - 1s 426ms/step - loss: 1.0381 - categorical_accuracy: 0.5176\n",
      "Epoch 24/500\n",
      "3/3 [==============================] - 1s 318ms/step - loss: 1.0466 - categorical_accuracy: 0.4000\n",
      "Epoch 25/500\n",
      "3/3 [==============================] - 2s 526ms/step - loss: 1.0254 - categorical_accuracy: 0.5176\n",
      "Epoch 26/500\n",
      "3/3 [==============================] - 1s 240ms/step - loss: 1.0224 - categorical_accuracy: 0.4471\n",
      "Epoch 27/500\n",
      "3/3 [==============================] - 1s 160ms/step - loss: 1.0222 - categorical_accuracy: 0.3765\n",
      "Epoch 28/500\n",
      "3/3 [==============================] - 0s 166ms/step - loss: 1.0194 - categorical_accuracy: 0.3412\n",
      "Epoch 29/500\n",
      "3/3 [==============================] - 1s 352ms/step - loss: 1.0100 - categorical_accuracy: 0.3412\n",
      "Epoch 30/500\n",
      "3/3 [==============================] - 1s 150ms/step - loss: 0.9868 - categorical_accuracy: 0.3529\n",
      "Epoch 31/500\n",
      "3/3 [==============================] - 1s 216ms/step - loss: 0.9554 - categorical_accuracy: 0.3176\n",
      "Epoch 32/500\n",
      "3/3 [==============================] - 0s 126ms/step - loss: 0.9886 - categorical_accuracy: 0.3765\n",
      "Epoch 33/500\n",
      "3/3 [==============================] - 0s 82ms/step - loss: 0.9999 - categorical_accuracy: 0.5412\n",
      "Epoch 34/500\n",
      "3/3 [==============================] - 0s 93ms/step - loss: 0.9964 - categorical_accuracy: 0.5647\n",
      "Epoch 35/500\n",
      "3/3 [==============================] - 1s 155ms/step - loss: 0.9839 - categorical_accuracy: 0.6000\n",
      "Epoch 36/500\n",
      "3/3 [==============================] - 1s 156ms/step - loss: 0.9554 - categorical_accuracy: 0.5882\n",
      "Epoch 37/500\n",
      "3/3 [==============================] - 0s 98ms/step - loss: 0.9121 - categorical_accuracy: 0.5647\n",
      "Epoch 38/500\n",
      "3/3 [==============================] - 1s 256ms/step - loss: 0.9168 - categorical_accuracy: 0.5765\n",
      "Epoch 39/500\n",
      "3/3 [==============================] - 0s 136ms/step - loss: 0.9661 - categorical_accuracy: 0.5765\n",
      "Epoch 40/500\n",
      "3/3 [==============================] - 0s 170ms/step - loss: 0.9660 - categorical_accuracy: 0.5765\n",
      "Epoch 41/500\n",
      "3/3 [==============================] - 1s 236ms/step - loss: 0.9466 - categorical_accuracy: 0.5765\n",
      "Epoch 42/500\n",
      "3/3 [==============================] - 0s 148ms/step - loss: 0.9233 - categorical_accuracy: 0.6000\n",
      "Epoch 43/500\n",
      "3/3 [==============================] - 1s 210ms/step - loss: 0.9053 - categorical_accuracy: 0.6706\n",
      "Epoch 44/500\n",
      "3/3 [==============================] - 1s 216ms/step - loss: 0.8755 - categorical_accuracy: 0.6471\n",
      "Epoch 45/500\n",
      "3/3 [==============================] - 1s 280ms/step - loss: 0.8309 - categorical_accuracy: 0.6471\n",
      "Epoch 46/500\n",
      "3/3 [==============================] - 1s 201ms/step - loss: 0.7635 - categorical_accuracy: 0.6471\n",
      "Epoch 47/500\n",
      "3/3 [==============================] - 0s 156ms/step - loss: 0.7135 - categorical_accuracy: 0.6000\n",
      "Epoch 48/500\n",
      "3/3 [==============================] - 0s 132ms/step - loss: 0.7914 - categorical_accuracy: 0.6000\n",
      "Epoch 49/500\n",
      "3/3 [==============================] - 0s 206ms/step - loss: 0.6904 - categorical_accuracy: 0.6706\n",
      "Epoch 50/500\n",
      "3/3 [==============================] - 1s 166ms/step - loss: 0.7082 - categorical_accuracy: 0.6588\n",
      "Epoch 51/500\n",
      "3/3 [==============================] - 1s 206ms/step - loss: 0.6344 - categorical_accuracy: 0.6588\n",
      "Epoch 52/500\n",
      "3/3 [==============================] - 0s 114ms/step - loss: 0.6086 - categorical_accuracy: 0.7059\n",
      "Epoch 53/500\n",
      "3/3 [==============================] - 1s 208ms/step - loss: 0.6517 - categorical_accuracy: 0.7412\n",
      "Epoch 54/500\n",
      "3/3 [==============================] - 1s 214ms/step - loss: 0.6350 - categorical_accuracy: 0.6824\n",
      "Epoch 55/500\n",
      "3/3 [==============================] - 1s 218ms/step - loss: 0.5249 - categorical_accuracy: 0.7059\n",
      "Epoch 56/500\n",
      "3/3 [==============================] - 1s 184ms/step - loss: 0.5528 - categorical_accuracy: 0.7176\n",
      "Epoch 57/500\n",
      "3/3 [==============================] - 0s 162ms/step - loss: 0.4878 - categorical_accuracy: 0.8118\n",
      "Epoch 58/500\n",
      "3/3 [==============================] - 1s 218ms/step - loss: 0.5001 - categorical_accuracy: 0.7412\n",
      "Epoch 59/500\n",
      "3/3 [==============================] - 1s 245ms/step - loss: 0.5705 - categorical_accuracy: 0.7176\n",
      "Epoch 60/500\n",
      "3/3 [==============================] - 1s 194ms/step - loss: 0.5606 - categorical_accuracy: 0.6706\n",
      "Epoch 61/500\n",
      "3/3 [==============================] - 1s 356ms/step - loss: 0.5111 - categorical_accuracy: 0.8118\n",
      "Epoch 62/500\n",
      "3/3 [==============================] - 1s 353ms/step - loss: 42.7676 - categorical_accuracy: 0.6941\n",
      "Epoch 63/500\n",
      "3/3 [==============================] - 0s 174ms/step - loss: 354.9810 - categorical_accuracy: 0.3529\n",
      "Epoch 64/500\n",
      "3/3 [==============================] - 1s 248ms/step - loss: 285.8557 - categorical_accuracy: 0.4000\n",
      "Epoch 65/500\n",
      "3/3 [==============================] - 1s 281ms/step - loss: 1179.1877 - categorical_accuracy: 0.3647\n",
      "Epoch 66/500\n",
      "3/3 [==============================] - 1s 282ms/step - loss: 2099.2505 - categorical_accuracy: 0.2588\n",
      "Epoch 67/500\n",
      "3/3 [==============================] - 1s 352ms/step - loss: 7213.6465 - categorical_accuracy: 0.2824\n",
      "Epoch 68/500\n",
      "3/3 [==============================] - 0s 148ms/step - loss: 4420.0518 - categorical_accuracy: 0.3647\n",
      "Epoch 69/500\n",
      "3/3 [==============================] - 1s 344ms/step - loss: 9981.5576 - categorical_accuracy: 0.3412\n",
      "Epoch 70/500\n",
      "3/3 [==============================] - 1s 365ms/step - loss: 5596.1797 - categorical_accuracy: 0.4118\n",
      "Epoch 71/500\n",
      "3/3 [==============================] - 1s 218ms/step - loss: 3338.8582 - categorical_accuracy: 0.2471\n",
      "Epoch 72/500\n",
      "3/3 [==============================] - 1s 146ms/step - loss: 765.5217 - categorical_accuracy: 0.4824\n",
      "Epoch 73/500\n",
      "3/3 [==============================] - 1s 346ms/step - loss: 226.3763 - categorical_accuracy: 0.3176\n"
     ]
    },
    {
     "name": "stdout",
     "output_type": "stream",
     "text": [
      "Epoch 74/500\n",
      "3/3 [==============================] - 1s 318ms/step - loss: 329.2059 - categorical_accuracy: 0.3294\n",
      "Epoch 75/500\n",
      "3/3 [==============================] - 0s 148ms/step - loss: 340.9430 - categorical_accuracy: 0.3765\n",
      "Epoch 76/500\n",
      "3/3 [==============================] - 1s 210ms/step - loss: 815.1489 - categorical_accuracy: 0.3412\n",
      "Epoch 77/500\n",
      "3/3 [==============================] - 0s 200ms/step - loss: 593.3191 - categorical_accuracy: 0.3294\n",
      "Epoch 78/500\n",
      "3/3 [==============================] - 1s 184ms/step - loss: 606.6187 - categorical_accuracy: 0.2941\n",
      "Epoch 79/500\n",
      "3/3 [==============================] - 1s 170ms/step - loss: 339.0080 - categorical_accuracy: 0.4118\n",
      "Epoch 80/500\n",
      "3/3 [==============================] - 0s 96ms/step - loss: 239.4901 - categorical_accuracy: 0.3412\n",
      "Epoch 81/500\n",
      "3/3 [==============================] - 0s 182ms/step - loss: 220.4359 - categorical_accuracy: 0.2941\n",
      "Epoch 82/500\n",
      "3/3 [==============================] - 0s 192ms/step - loss: 105.5364 - categorical_accuracy: 0.3176\n",
      "Epoch 83/500\n",
      "3/3 [==============================] - 0s 98ms/step - loss: 159.9427 - categorical_accuracy: 0.3765\n",
      "Epoch 84/500\n",
      "3/3 [==============================] - 0s 140ms/step - loss: 195.1235 - categorical_accuracy: 0.2941\n",
      "Epoch 85/500\n",
      "3/3 [==============================] - 1s 187ms/step - loss: 313.7733 - categorical_accuracy: 0.3412\n",
      "Epoch 86/500\n",
      "3/3 [==============================] - 0s 162ms/step - loss: 191.8391 - categorical_accuracy: 0.3412\n",
      "Epoch 87/500\n",
      "3/3 [==============================] - 0s 76ms/step - loss: 177.6891 - categorical_accuracy: 0.1765\n",
      "Epoch 88/500\n",
      "3/3 [==============================] - 0s 160ms/step - loss: 83.8750 - categorical_accuracy: 0.3882\n",
      "Epoch 89/500\n",
      "3/3 [==============================] - 0s 155ms/step - loss: 70.5864 - categorical_accuracy: 0.2471\n",
      "Epoch 90/500\n",
      "3/3 [==============================] - 0s 146ms/step - loss: 101.0915 - categorical_accuracy: 0.3882\n",
      "Epoch 91/500\n",
      "3/3 [==============================] - 0s 84ms/step - loss: 75.4230 - categorical_accuracy: 0.3765\n",
      "Epoch 92/500\n",
      "3/3 [==============================] - 0s 139ms/step - loss: 99.6014 - categorical_accuracy: 0.5529\n",
      "Epoch 93/500\n",
      "3/3 [==============================] - 0s 128ms/step - loss: 107.9097 - categorical_accuracy: 0.3765\n",
      "Epoch 94/500\n",
      "3/3 [==============================] - 1s 172ms/step - loss: 82.6241 - categorical_accuracy: 0.2824\n",
      "Epoch 95/500\n",
      "3/3 [==============================] - 1s 228ms/step - loss: 66.8201 - categorical_accuracy: 0.3882\n",
      "Epoch 96/500\n",
      "3/3 [==============================] - 0s 178ms/step - loss: 64.1938 - categorical_accuracy: 0.4000\n",
      "Epoch 97/500\n",
      "3/3 [==============================] - 1s 166ms/step - loss: 25.5690 - categorical_accuracy: 0.4118\n",
      "Epoch 98/500\n",
      "3/3 [==============================] - 1s 272ms/step - loss: 28.6744 - categorical_accuracy: 0.3647\n",
      "Epoch 99/500\n",
      "3/3 [==============================] - 1s 208ms/step - loss: 32.8604 - categorical_accuracy: 0.3176\n",
      "Epoch 100/500\n",
      "3/3 [==============================] - 0s 144ms/step - loss: 20.4700 - categorical_accuracy: 0.4118\n",
      "Epoch 101/500\n",
      "3/3 [==============================] - 1s 300ms/step - loss: 23.6863 - categorical_accuracy: 0.3412\n",
      "Epoch 102/500\n",
      "3/3 [==============================] - 1s 215ms/step - loss: 12.5851 - categorical_accuracy: 0.3176\n",
      "Epoch 103/500\n",
      "3/3 [==============================] - 1s 258ms/step - loss: 8.2565 - categorical_accuracy: 0.4235\n",
      "Epoch 104/500\n",
      "3/3 [==============================] - 1s 228ms/step - loss: 10.9568 - categorical_accuracy: 0.3059\n",
      "Epoch 105/500\n",
      "3/3 [==============================] - 1s 222ms/step - loss: 6.7408 - categorical_accuracy: 0.5529\n",
      "Epoch 106/500\n",
      "3/3 [==============================] - 1s 190ms/step - loss: 6.5064 - categorical_accuracy: 0.4353\n",
      "Epoch 107/500\n",
      "3/3 [==============================] - 0s 103ms/step - loss: 5.0542 - categorical_accuracy: 0.4706\n",
      "Epoch 108/500\n",
      "3/3 [==============================] - 1s 260ms/step - loss: 6.4006 - categorical_accuracy: 0.3529\n",
      "Epoch 109/500\n",
      "3/3 [==============================] - 1s 204ms/step - loss: 5.8968 - categorical_accuracy: 0.5059\n",
      "Epoch 110/500\n",
      "3/3 [==============================] - 0s 114ms/step - loss: 4.5202 - categorical_accuracy: 0.5059\n",
      "Epoch 111/500\n",
      "3/3 [==============================] - 0s 102ms/step - loss: 3.6492 - categorical_accuracy: 0.3882\n",
      "Epoch 112/500\n",
      "3/3 [==============================] - 0s 144ms/step - loss: 2.8206 - categorical_accuracy: 0.5882\n",
      "Epoch 113/500\n",
      "3/3 [==============================] - 0s 132ms/step - loss: 2.8878 - categorical_accuracy: 0.6588\n",
      "Epoch 114/500\n",
      "3/3 [==============================] - 0s 118ms/step - loss: 1.6998 - categorical_accuracy: 0.5294\n",
      "Epoch 115/500\n",
      "3/3 [==============================] - 0s 121ms/step - loss: 1.4167 - categorical_accuracy: 0.4706\n",
      "Epoch 116/500\n",
      "3/3 [==============================] - 1s 271ms/step - loss: 1.3168 - categorical_accuracy: 0.5882\n",
      "Epoch 117/500\n",
      "3/3 [==============================] - 1s 242ms/step - loss: 1.1701 - categorical_accuracy: 0.6000\n",
      "Epoch 118/500\n",
      "3/3 [==============================] - 1s 187ms/step - loss: 1.0868 - categorical_accuracy: 0.5882\n",
      "Epoch 119/500\n",
      "3/3 [==============================] - 0s 145ms/step - loss: 1.2450 - categorical_accuracy: 0.6353\n",
      "Epoch 120/500\n",
      "3/3 [==============================] - 0s 84ms/step - loss: 0.9888 - categorical_accuracy: 0.6000\n",
      "Epoch 121/500\n",
      "3/3 [==============================] - 0s 160ms/step - loss: 0.8936 - categorical_accuracy: 0.6471\n",
      "Epoch 122/500\n",
      "3/3 [==============================] - 0s 186ms/step - loss: 0.9331 - categorical_accuracy: 0.6706\n",
      "Epoch 123/500\n",
      "3/3 [==============================] - 0s 170ms/step - loss: 0.6295 - categorical_accuracy: 0.7765\n",
      "Epoch 124/500\n",
      "3/3 [==============================] - 1s 192ms/step - loss: 0.6006 - categorical_accuracy: 0.7412\n",
      "Epoch 125/500\n",
      "3/3 [==============================] - 0s 150ms/step - loss: 0.6453 - categorical_accuracy: 0.7059\n",
      "Epoch 126/500\n",
      "3/3 [==============================] - 1s 192ms/step - loss: 0.5454 - categorical_accuracy: 0.7765\n",
      "Epoch 127/500\n",
      "3/3 [==============================] - 1s 302ms/step - loss: 0.4830 - categorical_accuracy: 0.8235\n",
      "Epoch 128/500\n",
      "3/3 [==============================] - 1s 270ms/step - loss: 0.4787 - categorical_accuracy: 0.8353\n",
      "Epoch 129/500\n",
      "3/3 [==============================] - 0s 160ms/step - loss: 0.5103 - categorical_accuracy: 0.7529\n",
      "Epoch 130/500\n",
      "3/3 [==============================] - 0s 142ms/step - loss: 0.4949 - categorical_accuracy: 0.8000\n",
      "Epoch 131/500\n",
      "3/3 [==============================] - 1s 188ms/step - loss: 0.3548 - categorical_accuracy: 0.8824\n",
      "Epoch 132/500\n",
      "3/3 [==============================] - 1s 87ms/step - loss: 0.4273 - categorical_accuracy: 0.8000\n",
      "Epoch 133/500\n",
      "3/3 [==============================] - 1s 288ms/step - loss: 0.4419 - categorical_accuracy: 0.8000\n",
      "Epoch 134/500\n",
      "3/3 [==============================] - 1s 298ms/step - loss: 0.5716 - categorical_accuracy: 0.7647\n",
      "Epoch 135/500\n",
      "3/3 [==============================] - 1s 202ms/step - loss: 0.6082 - categorical_accuracy: 0.7294\n",
      "Epoch 136/500\n",
      "3/3 [==============================] - 1s 208ms/step - loss: 12.0147 - categorical_accuracy: 0.4941\n",
      "Epoch 137/500\n",
      "3/3 [==============================] - 1s 150ms/step - loss: 47.6855 - categorical_accuracy: 0.2941\n",
      "Epoch 138/500\n",
      "3/3 [==============================] - 1s 189ms/step - loss: 63.1264 - categorical_accuracy: 0.4000\n",
      "Epoch 139/500\n",
      "3/3 [==============================] - 1s 154ms/step - loss: 95.3788 - categorical_accuracy: 0.2353\n",
      "Epoch 140/500\n",
      "3/3 [==============================] - 0s 120ms/step - loss: 94.1835 - categorical_accuracy: 0.2941\n",
      "Epoch 141/500\n",
      "3/3 [==============================] - 1s 226ms/step - loss: 110.2723 - categorical_accuracy: 0.2824\n",
      "Epoch 142/500\n",
      "3/3 [==============================] - 0s 80ms/step - loss: 120.2774 - categorical_accuracy: 0.4471\n",
      "Epoch 143/500\n",
      "3/3 [==============================] - 0s 148ms/step - loss: 164.4743 - categorical_accuracy: 0.2941\n",
      "Epoch 144/500\n",
      "3/3 [==============================] - 0s 184ms/step - loss: 101.8227 - categorical_accuracy: 0.3412\n",
      "Epoch 145/500\n",
      "3/3 [==============================] - 0s 122ms/step - loss: 98.1500 - categorical_accuracy: 0.4471\n",
      "Epoch 146/500\n",
      "3/3 [==============================] - 0s 101ms/step - loss: 80.7353 - categorical_accuracy: 0.4588\n",
      "Epoch 147/500\n",
      "3/3 [==============================] - 0s 178ms/step - loss: 34.5839 - categorical_accuracy: 0.4824\n",
      "Epoch 148/500\n",
      "3/3 [==============================] - 0s 156ms/step - loss: 7.7800 - categorical_accuracy: 0.4000\n",
      "Epoch 149/500\n",
      "3/3 [==============================] - 0s 175ms/step - loss: 6.0900 - categorical_accuracy: 0.2941\n",
      "Epoch 150/500\n",
      "3/3 [==============================] - 1s 182ms/step - loss: 3.9130 - categorical_accuracy: 0.3412\n",
      "Epoch 151/500\n",
      "3/3 [==============================] - 1s 212ms/step - loss: 6.8785 - categorical_accuracy: 0.3059\n",
      "Epoch 152/500\n",
      "3/3 [==============================] - 1s 200ms/step - loss: 5.3167 - categorical_accuracy: 0.3765\n",
      "Epoch 153/500\n",
      "3/3 [==============================] - 1s 228ms/step - loss: 3.4494 - categorical_accuracy: 0.4118\n",
      "Epoch 154/500\n",
      "3/3 [==============================] - 0s 132ms/step - loss: 3.5922 - categorical_accuracy: 0.4000\n",
      "Epoch 155/500\n",
      "3/3 [==============================] - 0s 152ms/step - loss: 2.9753 - categorical_accuracy: 0.4235\n",
      "Epoch 156/500\n",
      "3/3 [==============================] - 1s 262ms/step - loss: 2.0574 - categorical_accuracy: 0.6000\n",
      "Epoch 157/500\n",
      "3/3 [==============================] - 1s 208ms/step - loss: 2.1168 - categorical_accuracy: 0.4588\n",
      "Epoch 158/500\n",
      "3/3 [==============================] - 0s 176ms/step - loss: 2.0436 - categorical_accuracy: 0.3882\n",
      "Epoch 159/500\n",
      "3/3 [==============================] - 1s 270ms/step - loss: 3.8039 - categorical_accuracy: 0.3765\n",
      "Epoch 160/500\n",
      "3/3 [==============================] - 1s 167ms/step - loss: 6.1538 - categorical_accuracy: 0.4118\n",
      "Epoch 161/500\n",
      "3/3 [==============================] - 0s 88ms/step - loss: 5.0588 - categorical_accuracy: 0.4588\n",
      "Epoch 162/500\n",
      "3/3 [==============================] - 0s 112ms/step - loss: 3.4579 - categorical_accuracy: 0.4353\n",
      "Epoch 163/500\n",
      "3/3 [==============================] - 1s 200ms/step - loss: 2.5923 - categorical_accuracy: 0.5176\n",
      "Epoch 164/500\n",
      "3/3 [==============================] - 0s 138ms/step - loss: 2.2647 - categorical_accuracy: 0.4824\n",
      "Epoch 165/500\n",
      "3/3 [==============================] - 1s 228ms/step - loss: 1.7397 - categorical_accuracy: 0.5294\n",
      "Epoch 166/500\n",
      "3/3 [==============================] - 1s 278ms/step - loss: 1.6047 - categorical_accuracy: 0.4941\n",
      "Epoch 167/500\n",
      "3/3 [==============================] - 1s 223ms/step - loss: 1.4797 - categorical_accuracy: 0.5412\n",
      "Epoch 168/500\n",
      "3/3 [==============================] - 1s 190ms/step - loss: 1.3467 - categorical_accuracy: 0.4941\n",
      "Epoch 169/500\n",
      "3/3 [==============================] - 1s 208ms/step - loss: 1.1393 - categorical_accuracy: 0.5765\n",
      "Epoch 170/500\n",
      "3/3 [==============================] - 1s 240ms/step - loss: 1.0492 - categorical_accuracy: 0.6235\n",
      "Epoch 171/500\n",
      "3/3 [==============================] - 1s 214ms/step - loss: 0.9102 - categorical_accuracy: 0.6941\n",
      "Epoch 172/500\n",
      "3/3 [==============================] - 1s 240ms/step - loss: 1.0068 - categorical_accuracy: 0.6588\n",
      "Epoch 173/500\n",
      "3/3 [==============================] - 0s 144ms/step - loss: 0.9743 - categorical_accuracy: 0.6824\n",
      "Epoch 174/500\n",
      "3/3 [==============================] - 1s 220ms/step - loss: 0.8269 - categorical_accuracy: 0.6706\n",
      "Epoch 175/500\n",
      "3/3 [==============================] - 0s 176ms/step - loss: 0.8202 - categorical_accuracy: 0.6235\n",
      "Epoch 176/500\n",
      "3/3 [==============================] - 1s 263ms/step - loss: 0.7529 - categorical_accuracy: 0.6588\n",
      "Epoch 177/500\n",
      "3/3 [==============================] - 1s 165ms/step - loss: 0.6745 - categorical_accuracy: 0.7294\n",
      "Epoch 178/500\n",
      "3/3 [==============================] - 0s 146ms/step - loss: 0.6453 - categorical_accuracy: 0.7176\n",
      "Epoch 179/500\n",
      "3/3 [==============================] - 1s 116ms/step - loss: 0.6284 - categorical_accuracy: 0.7529\n",
      "Epoch 180/500\n",
      "3/3 [==============================] - 0s 168ms/step - loss: 0.5956 - categorical_accuracy: 0.7765\n",
      "Epoch 181/500\n",
      "3/3 [==============================] - 1s 232ms/step - loss: 0.5696 - categorical_accuracy: 0.8471\n",
      "Epoch 182/500\n",
      "3/3 [==============================] - 0s 112ms/step - loss: 0.5353 - categorical_accuracy: 0.7765\n",
      "Epoch 183/500\n",
      "3/3 [==============================] - 0s 144ms/step - loss: 0.5218 - categorical_accuracy: 0.8118\n",
      "Epoch 184/500\n",
      "3/3 [==============================] - 0s 84ms/step - loss: 0.4938 - categorical_accuracy: 0.8235\n",
      "Epoch 185/500\n",
      "3/3 [==============================] - 0s 118ms/step - loss: 0.4731 - categorical_accuracy: 0.8000\n",
      "Epoch 186/500\n",
      "3/3 [==============================] - 1s 212ms/step - loss: 0.4580 - categorical_accuracy: 0.8235\n",
      "Epoch 187/500\n",
      "3/3 [==============================] - 1s 235ms/step - loss: 0.4918 - categorical_accuracy: 0.7882\n",
      "Epoch 188/500\n",
      "3/3 [==============================] - 0s 174ms/step - loss: 0.4712 - categorical_accuracy: 0.8235\n",
      "Epoch 189/500\n",
      "3/3 [==============================] - 1s 248ms/step - loss: 0.4843 - categorical_accuracy: 0.8118\n",
      "Epoch 190/500\n",
      "3/3 [==============================] - 1s 162ms/step - loss: 0.4804 - categorical_accuracy: 0.8235\n",
      "Epoch 191/500\n",
      "3/3 [==============================] - 0s 140ms/step - loss: 0.4936 - categorical_accuracy: 0.8118\n",
      "Epoch 192/500\n",
      "3/3 [==============================] - 0s 108ms/step - loss: 0.4461 - categorical_accuracy: 0.8353\n",
      "Epoch 193/500\n",
      "3/3 [==============================] - 0s 142ms/step - loss: 0.3976 - categorical_accuracy: 0.8941\n",
      "Epoch 194/500\n",
      "3/3 [==============================] - 1s 252ms/step - loss: 0.3853 - categorical_accuracy: 0.9059\n",
      "Epoch 195/500\n",
      "3/3 [==============================] - 1s 234ms/step - loss: 0.3887 - categorical_accuracy: 0.9176\n",
      "Epoch 196/500\n",
      "3/3 [==============================] - 0s 202ms/step - loss: 0.3900 - categorical_accuracy: 0.8235\n",
      "Epoch 197/500\n",
      "3/3 [==============================] - 1s 200ms/step - loss: 0.3675 - categorical_accuracy: 0.8824\n",
      "Epoch 198/500\n",
      "3/3 [==============================] - 0s 108ms/step - loss: 0.4002 - categorical_accuracy: 0.8706\n",
      "Epoch 199/500\n",
      "3/3 [==============================] - 1s 202ms/step - loss: 0.4029 - categorical_accuracy: 0.8941\n",
      "Epoch 200/500\n",
      "3/3 [==============================] - 0s 166ms/step - loss: 0.3730 - categorical_accuracy: 0.8824\n",
      "Epoch 201/500\n",
      "3/3 [==============================] - 1s 158ms/step - loss: 0.3334 - categorical_accuracy: 0.9294\n",
      "Epoch 202/500\n",
      "3/3 [==============================] - 1s 196ms/step - loss: 0.4051 - categorical_accuracy: 0.9059\n",
      "Epoch 203/500\n",
      "3/3 [==============================] - 1s 150ms/step - loss: 0.3590 - categorical_accuracy: 0.8941\n",
      "Epoch 204/500\n",
      "3/3 [==============================] - 1s 235ms/step - loss: 0.3860 - categorical_accuracy: 0.8706\n",
      "Epoch 205/500\n",
      "3/3 [==============================] - 1s 190ms/step - loss: 0.6605 - categorical_accuracy: 0.6824\n",
      "Epoch 206/500\n",
      "3/3 [==============================] - 1s 296ms/step - loss: 0.6439 - categorical_accuracy: 0.7765\n",
      "Epoch 207/500\n",
      "3/3 [==============================] - 1s 246ms/step - loss: 0.3797 - categorical_accuracy: 0.8588\n",
      "Epoch 208/500\n",
      "3/3 [==============================] - 0s 116ms/step - loss: 0.3885 - categorical_accuracy: 0.8588\n",
      "Epoch 209/500\n",
      "3/3 [==============================] - 1s 170ms/step - loss: 0.3525 - categorical_accuracy: 0.9294\n",
      "Epoch 210/500\n",
      "3/3 [==============================] - 0s 120ms/step - loss: 0.4041 - categorical_accuracy: 0.8235\n",
      "Epoch 211/500\n",
      "3/3 [==============================] - 1s 235ms/step - loss: 0.3125 - categorical_accuracy: 0.9412\n",
      "Epoch 212/500\n",
      "3/3 [==============================] - 0s 134ms/step - loss: 0.2960 - categorical_accuracy: 0.9059\n",
      "Epoch 213/500\n",
      "3/3 [==============================] - 1s 242ms/step - loss: 0.2685 - categorical_accuracy: 0.9412\n",
      "Epoch 214/500\n",
      "3/3 [==============================] - 1s 232ms/step - loss: 0.2534 - categorical_accuracy: 0.9529\n",
      "Epoch 215/500\n",
      "3/3 [==============================] - 1s 192ms/step - loss: 0.2539 - categorical_accuracy: 0.9412\n",
      "Epoch 216/500\n",
      "3/3 [==============================] - 1s 132ms/step - loss: 0.2413 - categorical_accuracy: 0.9412\n",
      "Epoch 217/500\n",
      "3/3 [==============================] - 1s 205ms/step - loss: 0.2556 - categorical_accuracy: 0.9412\n",
      "Epoch 218/500\n"
     ]
    },
    {
     "name": "stdout",
     "output_type": "stream",
     "text": [
      "3/3 [==============================] - 1s 232ms/step - loss: 0.2657 - categorical_accuracy: 0.9412\n",
      "Epoch 219/500\n",
      "3/3 [==============================] - 1s 354ms/step - loss: 0.2965 - categorical_accuracy: 0.9059\n",
      "Epoch 220/500\n",
      "3/3 [==============================] - 1s 356ms/step - loss: 0.3559 - categorical_accuracy: 0.8824\n",
      "Epoch 221/500\n",
      "3/3 [==============================] - 1s 230ms/step - loss: 0.5414 - categorical_accuracy: 0.7647\n",
      "Epoch 222/500\n",
      "3/3 [==============================] - 1s 176ms/step - loss: 0.3891 - categorical_accuracy: 0.8588\n",
      "Epoch 223/500\n",
      "3/3 [==============================] - 1s 198ms/step - loss: 0.5219 - categorical_accuracy: 0.7765\n",
      "Epoch 224/500\n",
      "3/3 [==============================] - 0s 118ms/step - loss: 0.5275 - categorical_accuracy: 0.7765\n",
      "Epoch 225/500\n",
      "3/3 [==============================] - 0s 170ms/step - loss: 0.5501 - categorical_accuracy: 0.8000\n",
      "Epoch 226/500\n",
      "3/3 [==============================] - 0s 100ms/step - loss: 0.3176 - categorical_accuracy: 0.9294\n",
      "Epoch 227/500\n",
      "3/3 [==============================] - 0s 74ms/step - loss: 0.4413 - categorical_accuracy: 0.7882\n",
      "Epoch 228/500\n",
      "3/3 [==============================] - 1s 249ms/step - loss: 0.3359 - categorical_accuracy: 0.9176\n",
      "Epoch 229/500\n",
      "3/3 [==============================] - 0s 100ms/step - loss: 0.3623 - categorical_accuracy: 0.8706\n",
      "Epoch 230/500\n",
      "3/3 [==============================] - 1s 240ms/step - loss: 0.3396 - categorical_accuracy: 0.9059\n",
      "Epoch 231/500\n",
      "3/3 [==============================] - 0s 118ms/step - loss: 0.3037 - categorical_accuracy: 0.9529\n",
      "Epoch 232/500\n",
      "3/3 [==============================] - 1s 190ms/step - loss: 0.2633 - categorical_accuracy: 0.9412\n",
      "Epoch 233/500\n",
      "3/3 [==============================] - 0s 88ms/step - loss: 0.2553 - categorical_accuracy: 0.9412\n",
      "Epoch 234/500\n",
      "3/3 [==============================] - 1s 216ms/step - loss: 0.2160 - categorical_accuracy: 0.9529\n",
      "Epoch 235/500\n",
      "3/3 [==============================] - 0s 134ms/step - loss: 0.2039 - categorical_accuracy: 0.9647\n",
      "Epoch 236/500\n",
      "3/3 [==============================] - 1s 274ms/step - loss: 0.1994 - categorical_accuracy: 0.9647\n",
      "Epoch 237/500\n",
      "3/3 [==============================] - 1s 210ms/step - loss: 0.1926 - categorical_accuracy: 0.9647\n",
      "Epoch 238/500\n",
      "3/3 [==============================] - 0s 115ms/step - loss: 0.1905 - categorical_accuracy: 0.9529\n",
      "Epoch 239/500\n",
      "3/3 [==============================] - 1s 152ms/step - loss: 0.1828 - categorical_accuracy: 0.9647\n",
      "Epoch 240/500\n",
      "3/3 [==============================] - 0s 130ms/step - loss: 0.2380 - categorical_accuracy: 0.9294\n",
      "Epoch 241/500\n",
      "3/3 [==============================] - 0s 180ms/step - loss: 0.2737 - categorical_accuracy: 0.9176\n",
      "Epoch 242/500\n",
      "3/3 [==============================] - 0s 136ms/step - loss: 0.2225 - categorical_accuracy: 0.9412\n",
      "Epoch 243/500\n",
      "3/3 [==============================] - 1s 283ms/step - loss: 0.1849 - categorical_accuracy: 0.9412\n",
      "Epoch 244/500\n",
      "3/3 [==============================] - 0s 86ms/step - loss: 0.1706 - categorical_accuracy: 0.9647\n",
      "Epoch 245/500\n",
      "3/3 [==============================] - 1s 260ms/step - loss: 0.1988 - categorical_accuracy: 0.9412\n",
      "Epoch 246/500\n",
      "3/3 [==============================] - 0s 124ms/step - loss: 0.1534 - categorical_accuracy: 0.9647\n",
      "Epoch 247/500\n",
      "3/3 [==============================] - 0s 154ms/step - loss: 0.1881 - categorical_accuracy: 0.9412\n",
      "Epoch 248/500\n",
      "3/3 [==============================] - 0s 100ms/step - loss: 0.2810 - categorical_accuracy: 0.9294\n",
      "Epoch 249/500\n",
      "3/3 [==============================] - 1s 254ms/step - loss: 0.2961 - categorical_accuracy: 0.9176\n",
      "Epoch 250/500\n",
      "3/3 [==============================] - 0s 104ms/step - loss: 0.3145 - categorical_accuracy: 0.8824\n",
      "Epoch 251/500\n",
      "3/3 [==============================] - 0s 156ms/step - loss: 0.3427 - categorical_accuracy: 0.8706\n",
      "Epoch 252/500\n",
      "3/3 [==============================] - 0s 146ms/step - loss: 0.4937 - categorical_accuracy: 0.8118\n",
      "Epoch 253/500\n",
      "3/3 [==============================] - 1s 156ms/step - loss: 0.6358 - categorical_accuracy: 0.6941\n",
      "Epoch 254/500\n",
      "3/3 [==============================] - 1s 268ms/step - loss: 0.4664 - categorical_accuracy: 0.8118\n",
      "Epoch 255/500\n",
      "3/3 [==============================] - 0s 86ms/step - loss: 0.5330 - categorical_accuracy: 0.7765\n",
      "Epoch 256/500\n",
      "3/3 [==============================] - 0s 102ms/step - loss: 0.3812 - categorical_accuracy: 0.8471\n",
      "Epoch 257/500\n",
      "3/3 [==============================] - 1s 232ms/step - loss: 0.2408 - categorical_accuracy: 0.9059\n",
      "Epoch 258/500\n",
      "3/3 [==============================] - 1s 192ms/step - loss: 0.2332 - categorical_accuracy: 0.9294\n",
      "Epoch 259/500\n",
      "3/3 [==============================] - 0s 82ms/step - loss: 0.2168 - categorical_accuracy: 0.9294\n",
      "Epoch 260/500\n",
      "3/3 [==============================] - 0s 96ms/step - loss: 0.1965 - categorical_accuracy: 0.9765\n",
      "Epoch 261/500\n",
      "3/3 [==============================] - 0s 182ms/step - loss: 0.1618 - categorical_accuracy: 0.9765\n",
      "Epoch 262/500\n",
      "3/3 [==============================] - 0s 200ms/step - loss: 0.1722 - categorical_accuracy: 0.9647\n",
      "Epoch 263/500\n",
      "3/3 [==============================] - 0s 196ms/step - loss: 0.1547 - categorical_accuracy: 0.9647\n",
      "Epoch 264/500\n",
      "3/3 [==============================] - 0s 118ms/step - loss: 0.1473 - categorical_accuracy: 0.9647\n",
      "Epoch 265/500\n",
      "3/3 [==============================] - 1s 164ms/step - loss: 0.1397 - categorical_accuracy: 0.9647\n",
      "Epoch 266/500\n",
      "3/3 [==============================] - 0s 138ms/step - loss: 0.1362 - categorical_accuracy: 0.9647\n",
      "Epoch 267/500\n",
      "3/3 [==============================] - 1s 216ms/step - loss: 0.1516 - categorical_accuracy: 0.9647\n",
      "Epoch 268/500\n",
      "3/3 [==============================] - 1s 168ms/step - loss: 0.1606 - categorical_accuracy: 0.9647\n",
      "Epoch 269/500\n",
      "3/3 [==============================] - 0s 116ms/step - loss: 0.1665 - categorical_accuracy: 0.9529\n",
      "Epoch 270/500\n",
      "3/3 [==============================] - 1s 114ms/step - loss: 0.1332 - categorical_accuracy: 0.9647\n",
      "Epoch 271/500\n",
      "3/3 [==============================] - 0s 114ms/step - loss: 0.1556 - categorical_accuracy: 0.9647\n",
      "Epoch 272/500\n",
      "3/3 [==============================] - 0s 159ms/step - loss: 0.1476 - categorical_accuracy: 0.9765\n",
      "Epoch 273/500\n",
      "3/3 [==============================] - 1s 247ms/step - loss: 0.1316 - categorical_accuracy: 0.9647\n",
      "Epoch 274/500\n",
      "3/3 [==============================] - 0s 80ms/step - loss: 0.1361 - categorical_accuracy: 0.9765\n",
      "Epoch 275/500\n",
      "3/3 [==============================] - 0s 160ms/step - loss: 0.1341 - categorical_accuracy: 0.9765\n",
      "Epoch 276/500\n",
      "3/3 [==============================] - 0s 98ms/step - loss: 0.1797 - categorical_accuracy: 0.9647\n",
      "Epoch 277/500\n",
      "3/3 [==============================] - 1s 234ms/step - loss: 0.1212 - categorical_accuracy: 0.9882\n",
      "Epoch 278/500\n",
      "3/3 [==============================] - 1s 216ms/step - loss: 0.1981 - categorical_accuracy: 0.9647\n",
      "Epoch 279/500\n",
      "3/3 [==============================] - 1s 176ms/step - loss: 0.3252 - categorical_accuracy: 0.9059\n",
      "Epoch 280/500\n",
      "3/3 [==============================] - 1s 222ms/step - loss: 0.1722 - categorical_accuracy: 0.9529\n",
      "Epoch 281/500\n",
      "3/3 [==============================] - 0s 84ms/step - loss: 0.2010 - categorical_accuracy: 0.9647\n",
      "Epoch 282/500\n",
      "3/3 [==============================] - 0s 90ms/step - loss: 0.1826 - categorical_accuracy: 0.9412\n",
      "Epoch 283/500\n",
      "3/3 [==============================] - 1s 200ms/step - loss: 0.1994 - categorical_accuracy: 0.9529\n",
      "Epoch 284/500\n",
      "3/3 [==============================] - 0s 198ms/step - loss: 0.2135 - categorical_accuracy: 0.9765\n",
      "Epoch 285/500\n",
      "3/3 [==============================] - 0s 122ms/step - loss: 0.2356 - categorical_accuracy: 0.9294\n",
      "Epoch 286/500\n",
      "3/3 [==============================] - 0s 104ms/step - loss: 0.1773 - categorical_accuracy: 0.9529\n",
      "Epoch 287/500\n",
      "3/3 [==============================] - 1s 240ms/step - loss: 0.2023 - categorical_accuracy: 0.9529\n",
      "Epoch 288/500\n",
      "3/3 [==============================] - 1s 207ms/step - loss: 0.1999 - categorical_accuracy: 0.9294\n",
      "Epoch 289/500\n",
      "3/3 [==============================] - 1s 162ms/step - loss: 0.5494 - categorical_accuracy: 0.7882\n",
      "Epoch 290/500\n",
      "3/3 [==============================] - 1s 247ms/step - loss: 0.3683 - categorical_accuracy: 0.8353\n",
      "Epoch 291/500\n",
      "3/3 [==============================] - 1s 263ms/step - loss: 0.4968 - categorical_accuracy: 0.8000\n",
      "Epoch 292/500\n",
      "3/3 [==============================] - 1s 209ms/step - loss: 0.2214 - categorical_accuracy: 0.9294\n",
      "Epoch 293/500\n",
      "3/3 [==============================] - 1s 176ms/step - loss: 0.2730 - categorical_accuracy: 0.8941\n",
      "Epoch 294/500\n",
      "3/3 [==============================] - 0s 158ms/step - loss: 0.2491 - categorical_accuracy: 0.9412\n",
      "Epoch 295/500\n",
      "3/3 [==============================] - 1s 152ms/step - loss: 0.4605 - categorical_accuracy: 0.8588\n",
      "Epoch 296/500\n",
      "3/3 [==============================] - 0s 146ms/step - loss: 0.6726 - categorical_accuracy: 0.7529\n",
      "Epoch 297/500\n",
      "3/3 [==============================] - 1s 150ms/step - loss: 0.4557 - categorical_accuracy: 0.8118\n",
      "Epoch 298/500\n",
      "3/3 [==============================] - 0s 148ms/step - loss: 0.2614 - categorical_accuracy: 0.8824\n",
      "Epoch 299/500\n",
      "3/3 [==============================] - 1s 286ms/step - loss: 0.7931 - categorical_accuracy: 0.6471\n",
      "Epoch 300/500\n",
      "3/3 [==============================] - 1s 206ms/step - loss: 0.3087 - categorical_accuracy: 0.8706\n",
      "Epoch 301/500\n",
      "3/3 [==============================] - 1s 182ms/step - loss: 0.3948 - categorical_accuracy: 0.7647\n",
      "Epoch 302/500\n",
      "3/3 [==============================] - 1s 381ms/step - loss: 0.4687 - categorical_accuracy: 0.8353\n",
      "Epoch 303/500\n",
      "3/3 [==============================] - 1s 236ms/step - loss: 0.2401 - categorical_accuracy: 0.9176\n",
      "Epoch 304/500\n",
      "3/3 [==============================] - 0s 170ms/step - loss: 0.3107 - categorical_accuracy: 0.9059\n",
      "Epoch 305/500\n",
      "3/3 [==============================] - 1s 286ms/step - loss: 0.3252 - categorical_accuracy: 0.8824\n",
      "Epoch 306/500\n",
      "3/3 [==============================] - 1s 248ms/step - loss: 0.2993 - categorical_accuracy: 0.9176\n",
      "Epoch 307/500\n",
      "3/3 [==============================] - 1s 321ms/step - loss: 0.1961 - categorical_accuracy: 0.9529\n",
      "Epoch 308/500\n",
      "3/3 [==============================] - 0s 148ms/step - loss: 0.2087 - categorical_accuracy: 0.9294\n",
      "Epoch 309/500\n",
      "3/3 [==============================] - 1s 296ms/step - loss: 0.1674 - categorical_accuracy: 0.9412\n",
      "Epoch 310/500\n",
      "3/3 [==============================] - 1s 376ms/step - loss: 0.1357 - categorical_accuracy: 0.9647\n",
      "Epoch 311/500\n",
      "3/3 [==============================] - 1s 418ms/step - loss: 0.1578 - categorical_accuracy: 0.9647\n",
      "Epoch 312/500\n",
      "3/3 [==============================] - 2s 534ms/step - loss: 0.1404 - categorical_accuracy: 0.9765\n",
      "Epoch 313/500\n",
      "3/3 [==============================] - 1s 266ms/step - loss: 0.1237 - categorical_accuracy: 0.9765\n",
      "Epoch 314/500\n",
      "3/3 [==============================] - 1s 246ms/step - loss: 0.1345 - categorical_accuracy: 0.9647\n",
      "Epoch 315/500\n",
      "3/3 [==============================] - 1s 282ms/step - loss: 0.1265 - categorical_accuracy: 0.9647\n",
      "Epoch 316/500\n",
      "3/3 [==============================] - 1s 174ms/step - loss: 0.1186 - categorical_accuracy: 0.9765\n",
      "Epoch 317/500\n",
      "3/3 [==============================] - 1s 154ms/step - loss: 0.1188 - categorical_accuracy: 0.9765\n",
      "Epoch 318/500\n",
      "3/3 [==============================] - 0s 88ms/step - loss: 0.1180 - categorical_accuracy: 0.9765\n",
      "Epoch 319/500\n",
      "3/3 [==============================] - 1s 222ms/step - loss: 0.1281 - categorical_accuracy: 0.9765\n",
      "Epoch 320/500\n",
      "3/3 [==============================] - 1s 202ms/step - loss: 0.1145 - categorical_accuracy: 0.9882\n",
      "Epoch 321/500\n",
      "3/3 [==============================] - 1s 201ms/step - loss: 0.1227 - categorical_accuracy: 0.9765\n",
      "Epoch 322/500\n",
      "3/3 [==============================] - 0s 168ms/step - loss: 0.1264 - categorical_accuracy: 0.9529\n",
      "Epoch 323/500\n",
      "3/3 [==============================] - 1s 222ms/step - loss: 0.1153 - categorical_accuracy: 0.9882\n",
      "Epoch 324/500\n",
      "3/3 [==============================] - 1s 210ms/step - loss: 0.1160 - categorical_accuracy: 0.9765\n",
      "Epoch 325/500\n",
      "3/3 [==============================] - 0s 84ms/step - loss: 0.1119 - categorical_accuracy: 0.9765\n",
      "Epoch 326/500\n",
      "3/3 [==============================] - 1s 160ms/step - loss: 0.1235 - categorical_accuracy: 0.9647\n",
      "Epoch 327/500\n",
      "3/3 [==============================] - 1s 210ms/step - loss: 0.1319 - categorical_accuracy: 0.9765\n",
      "Epoch 328/500\n",
      "3/3 [==============================] - 1s 326ms/step - loss: 0.1826 - categorical_accuracy: 0.9647\n",
      "Epoch 329/500\n",
      "3/3 [==============================] - 1s 361ms/step - loss: 0.2362 - categorical_accuracy: 0.9294\n",
      "Epoch 330/500\n",
      "3/3 [==============================] - 1s 148ms/step - loss: 0.2374 - categorical_accuracy: 0.9294\n",
      "Epoch 331/500\n",
      "3/3 [==============================] - 1s 276ms/step - loss: 0.1239 - categorical_accuracy: 0.9765\n",
      "Epoch 332/500\n",
      "3/3 [==============================] - 1s 218ms/step - loss: 0.2753 - categorical_accuracy: 0.9059\n",
      "Epoch 333/500\n",
      "3/3 [==============================] - 1s 380ms/step - loss: 0.2646 - categorical_accuracy: 0.9176\n",
      "Epoch 334/500\n",
      "3/3 [==============================] - 1s 230ms/step - loss: 0.1594 - categorical_accuracy: 0.9647\n",
      "Epoch 335/500\n",
      "3/3 [==============================] - 1s 224ms/step - loss: 0.2878 - categorical_accuracy: 0.9176\n",
      "Epoch 336/500\n",
      "3/3 [==============================] - 0s 130ms/step - loss: 0.1322 - categorical_accuracy: 0.9647\n",
      "Epoch 337/500\n",
      "3/3 [==============================] - 1s 174ms/step - loss: 0.1999 - categorical_accuracy: 0.8941\n",
      "Epoch 338/500\n",
      "3/3 [==============================] - 0s 72ms/step - loss: 0.2822 - categorical_accuracy: 0.9176\n",
      "Epoch 339/500\n",
      "3/3 [==============================] - 0s 90ms/step - loss: 0.2189 - categorical_accuracy: 0.9294\n",
      "Epoch 340/500\n",
      "3/3 [==============================] - 1s 216ms/step - loss: 0.1114 - categorical_accuracy: 0.9765\n",
      "Epoch 341/500\n",
      "3/3 [==============================] - 1s 276ms/step - loss: 0.1366 - categorical_accuracy: 0.9412\n",
      "Epoch 342/500\n",
      "3/3 [==============================] - 0s 90ms/step - loss: 0.0945 - categorical_accuracy: 0.9882\n",
      "Epoch 343/500\n",
      "3/3 [==============================] - 1s 154ms/step - loss: 0.1591 - categorical_accuracy: 0.9529\n",
      "Epoch 344/500\n",
      "3/3 [==============================] - 0s 88ms/step - loss: 0.1462 - categorical_accuracy: 0.9529\n",
      "Epoch 345/500\n",
      "3/3 [==============================] - 0s 120ms/step - loss: 0.1501 - categorical_accuracy: 0.9647\n",
      "Epoch 346/500\n",
      "3/3 [==============================] - 0s 185ms/step - loss: 0.1337 - categorical_accuracy: 0.9647\n",
      "Epoch 347/500\n",
      "3/3 [==============================] - 0s 66ms/step - loss: 0.1190 - categorical_accuracy: 0.9529\n",
      "Epoch 348/500\n",
      "3/3 [==============================] - 0s 178ms/step - loss: 0.1137 - categorical_accuracy: 0.9882\n",
      "Epoch 349/500\n",
      "3/3 [==============================] - 0s 200ms/step - loss: 0.1007 - categorical_accuracy: 0.9882\n",
      "Epoch 350/500\n",
      "3/3 [==============================] - 1s 287ms/step - loss: 0.0859 - categorical_accuracy: 0.9882\n",
      "Epoch 351/500\n",
      "3/3 [==============================] - 1s 233ms/step - loss: 0.0843 - categorical_accuracy: 0.9882\n",
      "Epoch 352/500\n",
      "3/3 [==============================] - 1s 274ms/step - loss: 0.0872 - categorical_accuracy: 0.9882\n",
      "Epoch 353/500\n",
      "3/3 [==============================] - 0s 122ms/step - loss: 0.0809 - categorical_accuracy: 0.9882\n",
      "Epoch 354/500\n",
      "3/3 [==============================] - 1s 224ms/step - loss: 0.0778 - categorical_accuracy: 0.9882\n",
      "Epoch 355/500\n",
      "3/3 [==============================] - 1s 116ms/step - loss: 0.0769 - categorical_accuracy: 0.9882\n",
      "Epoch 356/500\n",
      "3/3 [==============================] - 1s 138ms/step - loss: 0.0782 - categorical_accuracy: 0.9882\n",
      "Epoch 357/500\n",
      "3/3 [==============================] - 0s 136ms/step - loss: 0.0750 - categorical_accuracy: 0.9882\n",
      "Epoch 358/500\n",
      "3/3 [==============================] - 0s 166ms/step - loss: 0.0734 - categorical_accuracy: 0.9882\n",
      "Epoch 359/500\n",
      "3/3 [==============================] - 1s 248ms/step - loss: 0.0740 - categorical_accuracy: 0.9882\n",
      "Epoch 360/500\n",
      "3/3 [==============================] - 1s 278ms/step - loss: 0.0702 - categorical_accuracy: 0.9882\n",
      "Epoch 361/500\n",
      "3/3 [==============================] - 0s 184ms/step - loss: 0.0725 - categorical_accuracy: 0.9882\n",
      "Epoch 362/500\n"
     ]
    },
    {
     "name": "stdout",
     "output_type": "stream",
     "text": [
      "3/3 [==============================] - 1s 242ms/step - loss: 0.0682 - categorical_accuracy: 0.9882\n",
      "Epoch 363/500\n",
      "3/3 [==============================] - 0s 142ms/step - loss: 0.0676 - categorical_accuracy: 0.9882\n",
      "Epoch 364/500\n",
      "3/3 [==============================] - 1s 275ms/step - loss: 0.0663 - categorical_accuracy: 0.9882\n",
      "Epoch 365/500\n",
      "3/3 [==============================] - 1s 383ms/step - loss: 0.0648 - categorical_accuracy: 0.9882\n",
      "Epoch 366/500\n",
      "3/3 [==============================] - 1s 242ms/step - loss: 0.0637 - categorical_accuracy: 0.9882\n",
      "Epoch 367/500\n",
      "3/3 [==============================] - 1s 234ms/step - loss: 0.0619 - categorical_accuracy: 0.9882\n",
      "Epoch 368/500\n",
      "3/3 [==============================] - 1s 130ms/step - loss: 0.0634 - categorical_accuracy: 0.9882\n",
      "Epoch 369/500\n",
      "3/3 [==============================] - 1s 171ms/step - loss: 0.0595 - categorical_accuracy: 0.9882\n",
      "Epoch 370/500\n",
      "3/3 [==============================] - 0s 98ms/step - loss: 0.0613 - categorical_accuracy: 0.9882\n",
      "Epoch 371/500\n",
      "3/3 [==============================] - 1s 183ms/step - loss: 0.0594 - categorical_accuracy: 0.9882\n",
      "Epoch 372/500\n",
      "3/3 [==============================] - 1s 100ms/step - loss: 0.0594 - categorical_accuracy: 0.9882\n",
      "Epoch 373/500\n",
      "3/3 [==============================] - 0s 180ms/step - loss: 0.0586 - categorical_accuracy: 0.9882\n",
      "Epoch 374/500\n",
      "3/3 [==============================] - 1s 190ms/step - loss: 0.0594 - categorical_accuracy: 0.9882\n",
      "Epoch 375/500\n",
      "3/3 [==============================] - 1s 184ms/step - loss: 0.0580 - categorical_accuracy: 0.9882\n",
      "Epoch 376/500\n",
      "3/3 [==============================] - 1s 128ms/step - loss: 0.0566 - categorical_accuracy: 0.9882\n",
      "Epoch 377/500\n",
      "3/3 [==============================] - 1s 168ms/step - loss: 0.0562 - categorical_accuracy: 0.9882\n",
      "Epoch 378/500\n",
      "3/3 [==============================] - 1s 178ms/step - loss: 0.0570 - categorical_accuracy: 0.9882\n",
      "Epoch 379/500\n",
      "3/3 [==============================] - 0s 148ms/step - loss: 0.0554 - categorical_accuracy: 0.9882\n",
      "Epoch 380/500\n",
      "3/3 [==============================] - 0s 79ms/step - loss: 0.0615 - categorical_accuracy: 0.9882\n",
      "Epoch 381/500\n",
      "3/3 [==============================] - 0s 126ms/step - loss: 0.0916 - categorical_accuracy: 0.9765\n",
      "Epoch 382/500\n",
      "3/3 [==============================] - 1s 230ms/step - loss: 0.0581 - categorical_accuracy: 0.9882\n",
      "Epoch 383/500\n",
      "3/3 [==============================] - 1s 242ms/step - loss: 0.0561 - categorical_accuracy: 0.9882\n",
      "Epoch 384/500\n",
      "3/3 [==============================] - 0s 174ms/step - loss: 0.0672 - categorical_accuracy: 0.9765\n",
      "Epoch 385/500\n",
      "3/3 [==============================] - 1s 224ms/step - loss: 0.0756 - categorical_accuracy: 0.9765\n",
      "Epoch 386/500\n",
      "3/3 [==============================] - 1s 250ms/step - loss: 0.0767 - categorical_accuracy: 0.9765\n",
      "Epoch 387/500\n",
      "3/3 [==============================] - 1s 160ms/step - loss: 0.1218 - categorical_accuracy: 0.9529\n",
      "Epoch 388/500\n",
      "3/3 [==============================] - 0s 152ms/step - loss: 0.1161 - categorical_accuracy: 0.9647\n",
      "Epoch 389/500\n",
      "3/3 [==============================] - 1s 248ms/step - loss: 0.1566 - categorical_accuracy: 0.9529\n",
      "Epoch 390/500\n",
      "3/3 [==============================] - 1s 282ms/step - loss: 0.1739 - categorical_accuracy: 0.9529\n",
      "Epoch 391/500\n",
      "3/3 [==============================] - 0s 158ms/step - loss: 0.1201 - categorical_accuracy: 0.9529\n",
      "Epoch 392/500\n",
      "3/3 [==============================] - 0s 162ms/step - loss: 0.1913 - categorical_accuracy: 0.9529\n",
      "Epoch 393/500\n",
      "3/3 [==============================] - 0s 120ms/step - loss: 0.3366 - categorical_accuracy: 0.9176\n",
      "Epoch 394/500\n",
      "3/3 [==============================] - 0s 124ms/step - loss: 0.2499 - categorical_accuracy: 0.9059\n",
      "Epoch 395/500\n",
      "3/3 [==============================] - 1s 156ms/step - loss: 0.1989 - categorical_accuracy: 0.9412\n",
      "Epoch 396/500\n",
      "3/3 [==============================] - 0s 78ms/step - loss: 0.1574 - categorical_accuracy: 0.9529\n",
      "Epoch 397/500\n",
      "3/3 [==============================] - 1s 138ms/step - loss: 0.1780 - categorical_accuracy: 0.9412\n",
      "Epoch 398/500\n",
      "3/3 [==============================] - 1s 141ms/step - loss: 0.1173 - categorical_accuracy: 0.9647\n",
      "Epoch 399/500\n",
      "3/3 [==============================] - 1s 212ms/step - loss: 0.1071 - categorical_accuracy: 0.9647\n",
      "Epoch 400/500\n",
      "3/3 [==============================] - 1s 300ms/step - loss: 0.1500 - categorical_accuracy: 0.9647\n",
      "Epoch 401/500\n",
      "3/3 [==============================] - 0s 150ms/step - loss: 0.0867 - categorical_accuracy: 0.9765\n",
      "Epoch 402/500\n",
      "3/3 [==============================] - 0s 192ms/step - loss: 0.1029 - categorical_accuracy: 0.9647\n",
      "Epoch 403/500\n",
      "3/3 [==============================] - 0s 116ms/step - loss: 0.1189 - categorical_accuracy: 0.9529\n",
      "Epoch 404/500\n",
      "3/3 [==============================] - 0s 168ms/step - loss: 0.1939 - categorical_accuracy: 0.9647\n",
      "Epoch 405/500\n",
      "3/3 [==============================] - 0s 100ms/step - loss: 0.1079 - categorical_accuracy: 0.9765\n",
      "Epoch 406/500\n",
      "3/3 [==============================] - 1s 168ms/step - loss: 0.0818 - categorical_accuracy: 0.9882\n",
      "Epoch 407/500\n",
      "3/3 [==============================] - 0s 154ms/step - loss: 0.0749 - categorical_accuracy: 0.9882\n",
      "Epoch 408/500\n",
      "3/3 [==============================] - 1s 172ms/step - loss: 0.1070 - categorical_accuracy: 0.9647\n",
      "Epoch 409/500\n",
      "3/3 [==============================] - 0s 154ms/step - loss: 0.0626 - categorical_accuracy: 0.9882\n",
      "Epoch 410/500\n",
      "3/3 [==============================] - 0s 84ms/step - loss: 0.0896 - categorical_accuracy: 0.9882\n",
      "Epoch 411/500\n",
      "3/3 [==============================] - 0s 154ms/step - loss: 0.0437 - categorical_accuracy: 0.9882\n",
      "Epoch 412/500\n",
      "3/3 [==============================] - 1s 216ms/step - loss: 0.1405 - categorical_accuracy: 0.9765\n",
      "Epoch 413/500\n",
      "3/3 [==============================] - 0s 128ms/step - loss: 0.1126 - categorical_accuracy: 0.9529\n",
      "Epoch 414/500\n",
      "3/3 [==============================] - 0s 101ms/step - loss: 0.0962 - categorical_accuracy: 0.9765\n",
      "Epoch 415/500\n",
      "3/3 [==============================] - 0s 137ms/step - loss: 0.0515 - categorical_accuracy: 1.0000\n",
      "Epoch 416/500\n",
      "3/3 [==============================] - 0s 174ms/step - loss: 0.0738 - categorical_accuracy: 0.9765\n",
      "Epoch 417/500\n",
      "3/3 [==============================] - 1s 192ms/step - loss: 0.0838 - categorical_accuracy: 0.9765\n",
      "Epoch 418/500\n",
      "3/3 [==============================] - 0s 172ms/step - loss: 0.0704 - categorical_accuracy: 0.9765\n",
      "Epoch 419/500\n",
      "3/3 [==============================] - 1s 218ms/step - loss: 0.0632 - categorical_accuracy: 0.9765\n",
      "Epoch 420/500\n",
      "3/3 [==============================] - 0s 104ms/step - loss: 0.0536 - categorical_accuracy: 0.9882\n",
      "Epoch 421/500\n",
      "3/3 [==============================] - 0s 137ms/step - loss: 0.0646 - categorical_accuracy: 0.9765\n",
      "Epoch 422/500\n",
      "3/3 [==============================] - 1s 186ms/step - loss: 0.0533 - categorical_accuracy: 0.9882\n",
      "Epoch 423/500\n",
      "3/3 [==============================] - 1s 262ms/step - loss: 0.0673 - categorical_accuracy: 0.9882\n",
      "Epoch 424/500\n",
      "3/3 [==============================] - 0s 100ms/step - loss: 0.0644 - categorical_accuracy: 0.9765\n",
      "Epoch 425/500\n",
      "3/3 [==============================] - 1s 158ms/step - loss: 0.0569 - categorical_accuracy: 0.9882\n",
      "Epoch 426/500\n",
      "3/3 [==============================] - 0s 100ms/step - loss: 0.0523 - categorical_accuracy: 0.9882\n",
      "Epoch 427/500\n",
      "3/3 [==============================] - 0s 102ms/step - loss: 0.0546 - categorical_accuracy: 0.9882\n",
      "Epoch 428/500\n",
      "3/3 [==============================] - 0s 157ms/step - loss: 0.0553 - categorical_accuracy: 0.9765\n",
      "Epoch 429/500\n",
      "3/3 [==============================] - 0s 114ms/step - loss: 0.0456 - categorical_accuracy: 0.9882\n",
      "Epoch 430/500\n",
      "3/3 [==============================] - 0s 179ms/step - loss: 0.0438 - categorical_accuracy: 0.9882\n",
      "Epoch 431/500\n",
      "3/3 [==============================] - 0s 160ms/step - loss: 0.0371 - categorical_accuracy: 0.9882\n",
      "Epoch 432/500\n",
      "3/3 [==============================] - 1s 192ms/step - loss: 0.0408 - categorical_accuracy: 1.0000\n",
      "Epoch 433/500\n",
      "3/3 [==============================] - 0s 116ms/step - loss: 0.0336 - categorical_accuracy: 1.0000\n",
      "Epoch 434/500\n",
      "3/3 [==============================] - 0s 94ms/step - loss: 0.0482 - categorical_accuracy: 0.9882\n",
      "Epoch 435/500\n",
      "3/3 [==============================] - 0s 100ms/step - loss: 0.0302 - categorical_accuracy: 0.9882\n",
      "Epoch 436/500\n",
      "3/3 [==============================] - 0s 153ms/step - loss: 0.0801 - categorical_accuracy: 0.9882\n",
      "Epoch 437/500\n",
      "3/3 [==============================] - 0s 134ms/step - loss: 0.2000 - categorical_accuracy: 0.9412\n",
      "Epoch 438/500\n",
      "3/3 [==============================] - 1s 198ms/step - loss: 0.2506 - categorical_accuracy: 0.9294\n",
      "Epoch 439/500\n",
      "3/3 [==============================] - 0s 158ms/step - loss: 0.2144 - categorical_accuracy: 0.9176\n",
      "Epoch 440/500\n",
      "3/3 [==============================] - 0s 144ms/step - loss: 0.1938 - categorical_accuracy: 0.9412\n",
      "Epoch 441/500\n",
      "3/3 [==============================] - 1s 220ms/step - loss: 0.1058 - categorical_accuracy: 0.9647\n",
      "Epoch 442/500\n",
      "3/3 [==============================] - 0s 156ms/step - loss: 0.2156 - categorical_accuracy: 0.9176\n",
      "Epoch 443/500\n",
      "3/3 [==============================] - 0s 131ms/step - loss: 0.2089 - categorical_accuracy: 0.9294\n",
      "Epoch 444/500\n",
      "3/3 [==============================] - 0s 80ms/step - loss: 0.1304 - categorical_accuracy: 0.9529\n",
      "Epoch 445/500\n",
      "3/3 [==============================] - 0s 62ms/step - loss: 0.1617 - categorical_accuracy: 0.9529\n",
      "Epoch 446/500\n",
      "3/3 [==============================] - 0s 62ms/step - loss: 0.1174 - categorical_accuracy: 0.9647\n",
      "Epoch 447/500\n",
      "3/3 [==============================] - 0s 64ms/step - loss: 0.0599 - categorical_accuracy: 0.9882\n",
      "Epoch 448/500\n",
      "3/3 [==============================] - 0s 130ms/step - loss: 0.0731 - categorical_accuracy: 0.9765\n",
      "Epoch 449/500\n",
      "3/3 [==============================] - 0s 64ms/step - loss: 0.0844 - categorical_accuracy: 0.9765\n",
      "Epoch 450/500\n",
      "3/3 [==============================] - 0s 144ms/step - loss: 0.1403 - categorical_accuracy: 0.9647\n",
      "Epoch 451/500\n",
      "3/3 [==============================] - 0s 131ms/step - loss: 0.1693 - categorical_accuracy: 0.9529\n",
      "Epoch 452/500\n",
      "3/3 [==============================] - 0s 120ms/step - loss: 0.0855 - categorical_accuracy: 0.9647\n",
      "Epoch 453/500\n",
      "3/3 [==============================] - 0s 120ms/step - loss: 0.0935 - categorical_accuracy: 0.9647\n",
      "Epoch 454/500\n",
      "3/3 [==============================] - 0s 148ms/step - loss: 0.0522 - categorical_accuracy: 0.9882\n",
      "Epoch 455/500\n",
      "3/3 [==============================] - 1s 150ms/step - loss: 0.0443 - categorical_accuracy: 0.9882\n",
      "Epoch 456/500\n",
      "3/3 [==============================] - 1s 228ms/step - loss: 0.0524 - categorical_accuracy: 0.9882\n",
      "Epoch 457/500\n",
      "3/3 [==============================] - 0s 150ms/step - loss: 0.0533 - categorical_accuracy: 0.9882\n",
      "Epoch 458/500\n",
      "3/3 [==============================] - 0s 136ms/step - loss: 0.0489 - categorical_accuracy: 0.9882\n",
      "Epoch 459/500\n",
      "3/3 [==============================] - 1s 176ms/step - loss: 0.0332 - categorical_accuracy: 0.9882\n",
      "Epoch 460/500\n",
      "3/3 [==============================] - 0s 208ms/step - loss: 0.0477 - categorical_accuracy: 0.9882\n",
      "Epoch 461/500\n",
      "3/3 [==============================] - 1s 184ms/step - loss: 0.0319 - categorical_accuracy: 1.0000\n",
      "Epoch 462/500\n",
      "3/3 [==============================] - 0s 138ms/step - loss: 0.0522 - categorical_accuracy: 0.9765\n",
      "Epoch 463/500\n",
      "3/3 [==============================] - 1s 130ms/step - loss: 0.0401 - categorical_accuracy: 0.9882\n",
      "Epoch 464/500\n",
      "3/3 [==============================] - 1s 208ms/step - loss: 0.0319 - categorical_accuracy: 1.0000\n",
      "Epoch 465/500\n",
      "3/3 [==============================] - 0s 96ms/step - loss: 0.0277 - categorical_accuracy: 1.0000\n",
      "Epoch 466/500\n",
      "3/3 [==============================] - 0s 168ms/step - loss: 0.0239 - categorical_accuracy: 1.0000\n",
      "Epoch 467/500\n",
      "3/3 [==============================] - 0s 142ms/step - loss: 0.0207 - categorical_accuracy: 1.0000\n",
      "Epoch 468/500\n",
      "3/3 [==============================] - 0s 62ms/step - loss: 0.0192 - categorical_accuracy: 1.0000\n",
      "Epoch 469/500\n",
      "3/3 [==============================] - 0s 170ms/step - loss: 0.0188 - categorical_accuracy: 1.0000\n",
      "Epoch 470/500\n",
      "3/3 [==============================] - 0s 138ms/step - loss: 0.0168 - categorical_accuracy: 1.0000\n",
      "Epoch 471/500\n",
      "3/3 [==============================] - 0s 96ms/step - loss: 0.0165 - categorical_accuracy: 1.0000\n",
      "Epoch 472/500\n",
      "3/3 [==============================] - 0s 110ms/step - loss: 0.0161 - categorical_accuracy: 1.0000\n",
      "Epoch 473/500\n",
      "3/3 [==============================] - 0s 168ms/step - loss: 0.0157 - categorical_accuracy: 1.0000\n",
      "Epoch 474/500\n",
      "3/3 [==============================] - 0s 128ms/step - loss: 0.0154 - categorical_accuracy: 1.0000\n",
      "Epoch 475/500\n",
      "3/3 [==============================] - 0s 132ms/step - loss: 0.0148 - categorical_accuracy: 1.0000\n",
      "Epoch 476/500\n",
      "3/3 [==============================] - 1s 144ms/step - loss: 0.0144 - categorical_accuracy: 1.0000\n",
      "Epoch 477/500\n",
      "3/3 [==============================] - 1s 200ms/step - loss: 0.0140 - categorical_accuracy: 1.0000\n",
      "Epoch 478/500\n",
      "3/3 [==============================] - 0s 132ms/step - loss: 0.0138 - categorical_accuracy: 1.0000\n",
      "Epoch 479/500\n",
      "3/3 [==============================] - 0s 116ms/step - loss: 0.0140 - categorical_accuracy: 1.0000\n",
      "Epoch 480/500\n",
      "3/3 [==============================] - 0s 166ms/step - loss: 0.0137 - categorical_accuracy: 1.0000\n",
      "Epoch 481/500\n",
      "3/3 [==============================] - 0s 156ms/step - loss: 0.0128 - categorical_accuracy: 1.0000\n",
      "Epoch 482/500\n",
      "3/3 [==============================] - 1s 238ms/step - loss: 0.0135 - categorical_accuracy: 1.0000\n",
      "Epoch 483/500\n",
      "3/3 [==============================] - 0s 70ms/step - loss: 0.0125 - categorical_accuracy: 1.0000\n",
      "Epoch 484/500\n",
      "3/3 [==============================] - 0s 172ms/step - loss: 0.0127 - categorical_accuracy: 1.0000\n",
      "Epoch 485/500\n",
      "3/3 [==============================] - 0s 122ms/step - loss: 0.0128 - categorical_accuracy: 1.0000\n",
      "Epoch 486/500\n",
      "3/3 [==============================] - 0s 91ms/step - loss: 0.0119 - categorical_accuracy: 1.0000\n",
      "Epoch 487/500\n",
      "3/3 [==============================] - 0s 192ms/step - loss: 0.0116 - categorical_accuracy: 1.0000\n",
      "Epoch 488/500\n",
      "3/3 [==============================] - 1s 230ms/step - loss: 0.0113 - categorical_accuracy: 1.0000\n",
      "Epoch 489/500\n",
      "3/3 [==============================] - 0s 123ms/step - loss: 0.0112 - categorical_accuracy: 1.0000\n",
      "Epoch 490/500\n",
      "3/3 [==============================] - 1s 164ms/step - loss: 0.0110 - categorical_accuracy: 1.0000\n",
      "Epoch 491/500\n",
      "3/3 [==============================] - 1s 172ms/step - loss: 0.0107 - categorical_accuracy: 1.0000\n",
      "Epoch 492/500\n",
      "3/3 [==============================] - 1s 218ms/step - loss: 0.0107 - categorical_accuracy: 1.0000\n",
      "Epoch 493/500\n",
      "3/3 [==============================] - 1s 216ms/step - loss: 0.0104 - categorical_accuracy: 1.0000\n",
      "Epoch 494/500\n",
      "3/3 [==============================] - 0s 137ms/step - loss: 0.0102 - categorical_accuracy: 1.0000\n",
      "Epoch 495/500\n",
      "3/3 [==============================] - 1s 230ms/step - loss: 0.0102 - categorical_accuracy: 1.0000\n",
      "Epoch 496/500\n",
      "3/3 [==============================] - 0s 104ms/step - loss: 0.0100 - categorical_accuracy: 1.0000\n",
      "Epoch 497/500\n",
      "3/3 [==============================] - 1s 215ms/step - loss: 0.0097 - categorical_accuracy: 1.0000\n",
      "Epoch 498/500\n",
      "3/3 [==============================] - 0s 156ms/step - loss: 0.0096 - categorical_accuracy: 1.0000\n",
      "Epoch 499/500\n",
      "3/3 [==============================] - 1s 246ms/step - loss: 0.0096 - categorical_accuracy: 1.0000\n",
      "Epoch 500/500\n",
      "3/3 [==============================] - 1s 248ms/step - loss: 0.0093 - categorical_accuracy: 1.0000\n"
     ]
    },
    {
     "data": {
      "text/plain": [
       "<keras.callbacks.History at 0x1f00a4801c0>"
      ]
     },
     "execution_count": 104,
     "metadata": {},
     "output_type": "execute_result"
    }
   ],
   "source": [
    "model.fit(x_train,y_train,epochs=500,callbacks=[tb_callback])"
   ]
  },
  {
   "cell_type": "code",
   "execution_count": 105,
   "id": "a3004bfd",
   "metadata": {},
   "outputs": [],
   "source": [
    "model.save('action.h5')"
   ]
  },
  {
   "cell_type": "code",
   "execution_count": 51,
   "id": "87fdcf9a",
   "metadata": {
    "scrolled": false
   },
   "outputs": [
    {
     "name": "stdout",
     "output_type": "stream",
     "text": [
      "Model: \"sequential\"\n",
      "_________________________________________________________________\n",
      " Layer (type)                Output Shape              Param #   \n",
      "=================================================================\n",
      " lstm (LSTM)                 (None, 30, 64)            442112    \n",
      "                                                                 \n",
      " lstm_1 (LSTM)               (None, 30, 128)           98816     \n",
      "                                                                 \n",
      " lstm_2 (LSTM)               (None, 64)                49408     \n",
      "                                                                 \n",
      " dense (Dense)               (None, 64)                4160      \n",
      "                                                                 \n",
      " dense_1 (Dense)             (None, 32)                2080      \n",
      "                                                                 \n",
      " dense_2 (Dense)             (None, 3)                 99        \n",
      "                                                                 \n",
      "=================================================================\n",
      "Total params: 596,675\n",
      "Trainable params: 596,675\n",
      "Non-trainable params: 0\n",
      "_________________________________________________________________\n"
     ]
    }
   ],
   "source": [
    "model.summary()"
   ]
  },
  {
   "cell_type": "markdown",
   "id": "102d6cfd",
   "metadata": {},
   "source": [
    "# 8. Make Prediction"
   ]
  },
  {
   "cell_type": "code",
   "execution_count": 52,
   "id": "48c03138",
   "metadata": {},
   "outputs": [
    {
     "name": "stdout",
     "output_type": "stream",
     "text": [
      "1/1 [==============================] - 1s 579ms/step\n"
     ]
    }
   ],
   "source": [
    "res = model.predict(x_test)"
   ]
  },
  {
   "cell_type": "code",
   "execution_count": 53,
   "id": "d0493275",
   "metadata": {},
   "outputs": [
    {
     "data": {
      "text/plain": [
       "'thanks'"
      ]
     },
     "execution_count": 53,
     "metadata": {},
     "output_type": "execute_result"
    }
   ],
   "source": [
    "actions[np.argmax(res[4])]"
   ]
  },
  {
   "cell_type": "code",
   "execution_count": 54,
   "id": "56ba3e5b",
   "metadata": {},
   "outputs": [
    {
     "data": {
      "text/plain": [
       "'hello'"
      ]
     },
     "execution_count": 54,
     "metadata": {},
     "output_type": "execute_result"
    }
   ],
   "source": [
    "actions[np.argmax(y_test[4])]"
   ]
  },
  {
   "cell_type": "markdown",
   "id": "4b06a79e",
   "metadata": {},
   "source": [
    "# 9. Save Model "
   ]
  },
  {
   "cell_type": "code",
   "execution_count": 55,
   "id": "c3814d39",
   "metadata": {},
   "outputs": [],
   "source": [
    "#model.save('action.h5')"
   ]
  },
  {
   "cell_type": "code",
   "execution_count": 56,
   "id": "14c9e0ed",
   "metadata": {},
   "outputs": [],
   "source": [
    "#del model"
   ]
  },
  {
   "cell_type": "code",
   "execution_count": 57,
   "id": "a3057f8a",
   "metadata": {},
   "outputs": [],
   "source": [
    "model.load_weights('action.h5')"
   ]
  },
  {
   "cell_type": "markdown",
   "id": "0ba522cc",
   "metadata": {},
   "source": [
    "# 10.Evaluation using confusion matrix and accuracy"
   ]
  },
  {
   "cell_type": "code",
   "execution_count": 58,
   "id": "5a470dbb",
   "metadata": {},
   "outputs": [],
   "source": [
    " from sklearn.metrics import multilabel_confusion_matrix,accuracy_score"
   ]
  },
  {
   "cell_type": "code",
   "execution_count": 59,
   "id": "113998a3",
   "metadata": {},
   "outputs": [
    {
     "name": "stdout",
     "output_type": "stream",
     "text": [
      "3/3 [==============================] - 0s 45ms/step\n"
     ]
    }
   ],
   "source": [
    "yhat = model.predict(x_train)    #predict on train data"
   ]
  },
  {
   "cell_type": "code",
   "execution_count": 60,
   "id": "f2cc19e4",
   "metadata": {
    "scrolled": true
   },
   "outputs": [],
   "source": [
    "ytrue = np.argmax(y_train,axis=1).tolist()\n",
    "#ytrue"
   ]
  },
  {
   "cell_type": "code",
   "execution_count": 61,
   "id": "4e8f35a7",
   "metadata": {},
   "outputs": [],
   "source": [
    "yhat = np.argmax(yhat,axis=1).tolist()"
   ]
  },
  {
   "cell_type": "code",
   "execution_count": 62,
   "id": "cfb50e28",
   "metadata": {
    "scrolled": true
   },
   "outputs": [],
   "source": [
    "#yhat"
   ]
  },
  {
   "cell_type": "code",
   "execution_count": 63,
   "id": "510fb216",
   "metadata": {},
   "outputs": [
    {
     "data": {
      "text/plain": [
       "array([[[59,  0],\n",
       "        [ 0, 26]],\n",
       "\n",
       "       [[55,  0],\n",
       "        [ 0, 30]],\n",
       "\n",
       "       [[56,  0],\n",
       "        [ 0, 29]]], dtype=int64)"
      ]
     },
     "execution_count": 63,
     "metadata": {},
     "output_type": "execute_result"
    }
   ],
   "source": [
    "multilabel_confusion_matrix(ytrue,yhat)"
   ]
  },
  {
   "cell_type": "code",
   "execution_count": 64,
   "id": "995f84e6",
   "metadata": {},
   "outputs": [
    {
     "data": {
      "text/plain": [
       "1.0"
      ]
     },
     "execution_count": 64,
     "metadata": {},
     "output_type": "execute_result"
    }
   ],
   "source": [
    "accuracy_score(ytrue,yhat)"
   ]
  },
  {
   "cell_type": "markdown",
   "id": "3dfd1ecb",
   "metadata": {},
   "source": [
    "# 11.Test in Real Time"
   ]
  },
  {
   "cell_type": "code",
   "execution_count": 66,
   "id": "4f153cb5",
   "metadata": {
    "scrolled": true
   },
   "outputs": [
    {
     "name": "stdout",
     "output_type": "stream",
     "text": [
      "1/1 [==============================] - 0s 27ms/step\n",
      "thanks\n",
      "1/1 [==============================] - 0s 34ms/step\n",
      "thanks\n",
      "1/1 [==============================] - 0s 41ms/step\n",
      "iloveyou\n",
      "1/1 [==============================] - 0s 41ms/step\n",
      "hello\n",
      "1/1 [==============================] - 0s 36ms/step\n",
      "hello\n",
      "1/1 [==============================] - 0s 35ms/step\n",
      "hello\n",
      "1/1 [==============================] - 0s 33ms/step\n",
      "iloveyou\n",
      "1/1 [==============================] - 0s 41ms/step\n",
      "iloveyou\n",
      "1/1 [==============================] - 0s 38ms/step\n",
      "iloveyou\n",
      "1/1 [==============================] - 0s 34ms/step\n",
      "iloveyou\n",
      "1/1 [==============================] - 0s 36ms/step\n",
      "iloveyou\n",
      "1/1 [==============================] - 0s 35ms/step\n",
      "iloveyou\n",
      "1/1 [==============================] - 0s 38ms/step\n",
      "iloveyou\n",
      "1/1 [==============================] - 0s 53ms/step\n",
      "iloveyou\n",
      "1/1 [==============================] - 0s 37ms/step\n",
      "iloveyou\n",
      "1/1 [==============================] - 0s 35ms/step\n",
      "iloveyou\n",
      "1/1 [==============================] - 0s 35ms/step\n",
      "iloveyou\n",
      "1/1 [==============================] - 0s 34ms/step\n",
      "iloveyou\n",
      "1/1 [==============================] - 0s 36ms/step\n",
      "iloveyou\n",
      "1/1 [==============================] - 0s 38ms/step\n",
      "iloveyou\n",
      "1/1 [==============================] - 0s 41ms/step\n",
      "iloveyou\n",
      "1/1 [==============================] - 0s 34ms/step\n",
      "iloveyou\n",
      "1/1 [==============================] - 0s 34ms/step\n",
      "iloveyou\n",
      "1/1 [==============================] - 0s 33ms/step\n",
      "iloveyou\n",
      "1/1 [==============================] - 0s 44ms/step\n",
      "iloveyou\n",
      "1/1 [==============================] - 0s 34ms/step\n",
      "iloveyou\n",
      "1/1 [==============================] - 0s 35ms/step\n",
      "iloveyou\n",
      "1/1 [==============================] - 0s 35ms/step\n",
      "iloveyou\n",
      "1/1 [==============================] - 0s 58ms/step\n",
      "iloveyou\n",
      "1/1 [==============================] - 0s 34ms/step\n",
      "iloveyou\n",
      "1/1 [==============================] - 0s 38ms/step\n",
      "iloveyou\n",
      "1/1 [==============================] - 0s 34ms/step\n",
      "hello\n",
      "1/1 [==============================] - 0s 54ms/step\n",
      "iloveyou\n",
      "1/1 [==============================] - 0s 37ms/step\n",
      "hello\n",
      "1/1 [==============================] - 0s 35ms/step\n",
      "thanks\n",
      "1/1 [==============================] - 0s 35ms/step\n",
      "thanks\n",
      "1/1 [==============================] - 0s 36ms/step\n",
      "thanks\n",
      "1/1 [==============================] - 0s 34ms/step\n",
      "hello\n",
      "1/1 [==============================] - 0s 46ms/step\n",
      "thanks\n",
      "1/1 [==============================] - 0s 49ms/step\n",
      "iloveyou\n",
      "1/1 [==============================] - 0s 49ms/step\n",
      "thanks\n",
      "1/1 [==============================] - 0s 35ms/step\n",
      "hello\n",
      "1/1 [==============================] - 0s 35ms/step\n",
      "thanks\n",
      "1/1 [==============================] - 0s 31ms/step\n",
      "thanks\n",
      "1/1 [==============================] - 0s 34ms/step\n",
      "thanks\n"
     ]
    },
    {
     "ename": "error",
     "evalue": "OpenCV(4.7.0) D:\\a\\opencv-python\\opencv-python\\opencv\\modules\\imgproc\\src\\color.cpp:182: error: (-215:Assertion failed) !_src.empty() in function 'cv::cvtColor'\n",
     "output_type": "error",
     "traceback": [
      "\u001b[1;31m---------------------------------------------------------------------------\u001b[0m",
      "\u001b[1;31merror\u001b[0m                                     Traceback (most recent call last)",
      "Cell \u001b[1;32mIn[66], line 18\u001b[0m\n\u001b[0;32m     15\u001b[0m ret, frame \u001b[38;5;241m=\u001b[39m cap\u001b[38;5;241m.\u001b[39mread()\n\u001b[0;32m     17\u001b[0m \u001b[38;5;66;03m# Make detection\u001b[39;00m\n\u001b[1;32m---> 18\u001b[0m image, results \u001b[38;5;241m=\u001b[39m \u001b[43mmediapipe_detection\u001b[49m\u001b[43m(\u001b[49m\u001b[43mframe\u001b[49m\u001b[43m,\u001b[49m\u001b[43m \u001b[49m\u001b[43mholistic\u001b[49m\u001b[43m)\u001b[49m\n\u001b[0;32m     20\u001b[0m \u001b[38;5;66;03m# Draw landmarks\u001b[39;00m\n\u001b[0;32m     21\u001b[0m draw_styled_landmarks(image, results)\n",
      "Cell \u001b[1;32mIn[3], line 2\u001b[0m, in \u001b[0;36mmediapipe_detection\u001b[1;34m(image, model)\u001b[0m\n\u001b[0;32m      1\u001b[0m \u001b[38;5;28;01mdef\u001b[39;00m \u001b[38;5;21mmediapipe_detection\u001b[39m(image,model):\n\u001b[1;32m----> 2\u001b[0m     image \u001b[38;5;241m=\u001b[39m \u001b[43mcv2\u001b[49m\u001b[38;5;241;43m.\u001b[39;49m\u001b[43mcvtColor\u001b[49m\u001b[43m(\u001b[49m\u001b[43mimage\u001b[49m\u001b[43m,\u001b[49m\u001b[43mcv2\u001b[49m\u001b[38;5;241;43m.\u001b[39;49m\u001b[43mCOLOR_BGR2RGB\u001b[49m\u001b[43m)\u001b[49m       \u001b[38;5;66;03m# COLOR CONVERSION bgr to rgb\u001b[39;00m\n\u001b[0;32m      3\u001b[0m     image\u001b[38;5;241m.\u001b[39mflags\u001b[38;5;241m.\u001b[39mwriteable \u001b[38;5;241m=\u001b[39m \u001b[38;5;28;01mFalse\u001b[39;00m                       \u001b[38;5;66;03m# Image writeable status to false ,no longer writable\u001b[39;00m\n\u001b[0;32m      4\u001b[0m     results \u001b[38;5;241m=\u001b[39m model\u001b[38;5;241m.\u001b[39mprocess(image)                      \u001b[38;5;66;03m# Make Prediction\u001b[39;00m\n",
      "\u001b[1;31merror\u001b[0m: OpenCV(4.7.0) D:\\a\\opencv-python\\opencv-python\\opencv\\modules\\imgproc\\src\\color.cpp:182: error: (-215:Assertion failed) !_src.empty() in function 'cv::cvtColor'\n"
     ]
    }
   ],
   "source": [
    "# New detection variables\n",
    "sequence = []  # Collect 30 frames sequence\n",
    "sentence = []  # Concatenate frames\n",
    "threshold = 0.7\n",
    "\n",
    "res = None\n",
    "\n",
    "cap = cv2.VideoCapture(0)  # Device value is zero; this line accesses the webcam\n",
    "\n",
    "# Access mediapipe model, initial detection, tracking confidence\n",
    "with mp_holistic.Holistic(min_detection_confidence=0.5, min_tracking_confidence=0.5) as holistic:\n",
    "    while cap.isOpened():  # If webcam is open\n",
    "\n",
    "        # Read feed\n",
    "        ret, frame = cap.read()\n",
    "\n",
    "        # Make detection\n",
    "        image, results = mediapipe_detection(frame, holistic)\n",
    "\n",
    "        # Draw landmarks\n",
    "        draw_styled_landmarks(image, results)\n",
    "\n",
    "        # 2. Prediction logic\n",
    "        keypoints = extract_keypoints(results)\n",
    "        sequence.insert(0, keypoints)\n",
    "        sequence = sequence[:30]\n",
    "\n",
    "        if len(sequence) == 30:\n",
    "            res = model.predict(np.expand_dims(sequence, axis=0))[0]\n",
    "            print(actions[np.argmax(res)])\n",
    "\n",
    "        # 3. Viz logic\n",
    "        if res is not None:\n",
    "            if np.max(res) > threshold:\n",
    "                if len(sentence) > 0:\n",
    "                    if actions[np.argmax(res)] != sentence[-1]:\n",
    "                        sentence.append(actions[np.argmax(res)])\n",
    "                else:\n",
    "                    sentence.append(actions[np.argmax(res)])\n",
    "\n",
    "        if len(sentence) > 5:\n",
    "            sentence = sentence[-5:]\n",
    "\n",
    "        cv2.rectangle(image, (0, 0), (640, 40), (245, 117, 16), -1)\n",
    "        cv2.putText(image, ' '.join(sentence), (3, 30), cv2.FONT_HERSHEY_SIMPLEX, 1, (255, 255, 255), 2, cv2.LINE_AA)\n",
    "\n",
    "        # Show to screen\n",
    "        cv2.imshow('OpenCV Feed', image)  # Frame name='OpenCV Feed'\n",
    "\n",
    "        # Break escape\n",
    "        if cv2.waitKey(10) & 0xFF == ord('q'):  # If the current key is 'q', break out of the loop\n",
    "            break\n",
    "    cap.release()\n",
    "    cv2.destroyAllWindows()\n"
   ]
  },
  {
   "cell_type": "code",
   "execution_count": 184,
   "id": "6ec1e943",
   "metadata": {},
   "outputs": [],
   "source": [
    "cap.release()\n",
    "cv2.destroyAllWindows()"
   ]
  },
  {
   "cell_type": "code",
   "execution_count": 121,
   "id": "d199b8b3",
   "metadata": {},
   "outputs": [],
   "source": [
    "#res[np.argmax(res)] > threshold"
   ]
  },
  {
   "cell_type": "code",
   "execution_count": 122,
   "id": "2b258511",
   "metadata": {},
   "outputs": [],
   "source": [
    "#np.expand_dims(x_test[0],axis=0).shape"
   ]
  },
  {
   "cell_type": "code",
   "execution_count": 123,
   "id": "0c5c3cfc",
   "metadata": {},
   "outputs": [],
   "source": [
    "#model.predict(np.expand_dims(x_test[0],axis=0))"
   ]
  },
  {
   "cell_type": "code",
   "execution_count": 124,
   "id": "01589c6b",
   "metadata": {},
   "outputs": [],
   "source": [
    "#res"
   ]
  },
  {
   "cell_type": "code",
   "execution_count": 125,
   "id": "5f3e59eb",
   "metadata": {},
   "outputs": [],
   "source": [
    "#res[np.argmax(res)]"
   ]
  },
  {
   "cell_type": "code",
   "execution_count": 126,
   "id": "50aab0d6",
   "metadata": {},
   "outputs": [],
   "source": [
    "#np.argmax(res)"
   ]
  },
  {
   "cell_type": "code",
   "execution_count": null,
   "id": "1bd211fd",
   "metadata": {},
   "outputs": [],
   "source": []
  },
  {
   "cell_type": "code",
   "execution_count": null,
   "id": "830f1a2f",
   "metadata": {},
   "outputs": [],
   "source": []
  },
  {
   "cell_type": "code",
   "execution_count": null,
   "id": "75a37fd5",
   "metadata": {},
   "outputs": [],
   "source": []
  }
 ],
 "metadata": {
  "kernelspec": {
   "display_name": "Python 3 (ipykernel)",
   "language": "python",
   "name": "python3"
  },
  "language_info": {
   "codemirror_mode": {
    "name": "ipython",
    "version": 3
   },
   "file_extension": ".py",
   "mimetype": "text/x-python",
   "name": "python",
   "nbconvert_exporter": "python",
   "pygments_lexer": "ipython3",
   "version": "3.9.16"
  }
 },
 "nbformat": 4,
 "nbformat_minor": 5
}
